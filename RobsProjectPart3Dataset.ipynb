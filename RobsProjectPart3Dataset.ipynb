{
  "nbformat": 4,
  "nbformat_minor": 0,
  "metadata": {
    "colab": {
      "name": "RobsProjectPart3Dataset.ipynb",
      "provenance": [],
      "collapsed_sections": []
    },
    "kernelspec": {
      "name": "python3",
      "display_name": "Python 3"
    },
    "language_info": {
      "name": "python"
    }
  },
  "cells": [
    {
      "cell_type": "markdown",
      "metadata": {
        "id": "WBRxNFsnJ5Zm"
      },
      "source": [
        "\n",
        "> Modestas Cepulis T00199237 AI dataset project file.\n",
        "\n",
        "\n",
        "\n",
        "> I'm using a kaggle dataset 'Stroke prediction':\n",
        "[Stroke Prediction Dataset](https://www.kaggle.com/fedesoriano/stroke-prediction-dataset)\n",
        "\n",
        "\n",
        "\n",
        "> In this project, I will try to demonstrate which machine learning algorithm is the best at predicting a certain end value. (In this case which algorithm predicts 'stroke' value the best)\n",
        "\n",
        "## Final conclusion is written at the end of this document.\n",
        "\n",
        "\n",
        "\n",
        "\n",
        "\n",
        "---\n",
        "\n"
      ]
    },
    {
      "cell_type": "markdown",
      "metadata": {
        "id": "wJuWj5TNKvbj"
      },
      "source": [
        "\n",
        "\n",
        "# INTRODUCTION: Finding out information about the dataset:\n",
        "\n"
      ]
    },
    {
      "cell_type": "code",
      "metadata": {
        "id": "7paG1OOBE4YH"
      },
      "source": [
        "import os\n",
        "import matplotlib.pyplot as plt\n",
        "import matplotlib.ticker as mtick\n",
        "import matplotlib.gridspec as grid_spec\n",
        "import pandas as pd\n",
        "import numpy as np\n",
        "import tensorflow as tf\n",
        "import seaborn as sns\n",
        "from sklearn.tree import DecisionTreeClassifier\n",
        "from sklearn.pipeline import Pipeline\n",
        "from sklearn.preprocessing import StandardScaler,LabelEncoder\n",
        "from sklearn.model_selection import train_test_split,cross_val_score\n",
        "from sklearn.linear_model import LinearRegression,LogisticRegression\n",
        "from sklearn.tree import DecisionTreeRegressor,DecisionTreeClassifier\n",
        "from sklearn.ensemble import RandomForestClassifier\n",
        "from sklearn.svm import SVC\n",
        "from sklearn.datasets import load_iris\n",
        "from sklearn.neighbors import KNeighborsClassifier\n",
        "from sklearn.metrics import accuracy_score\n",
        "from sklearn.metrics import confusion_matrix\n",
        "from sklearn.metrics import plot_confusion_matrix"
      ],
      "execution_count": 1,
      "outputs": []
    },
    {
      "cell_type": "code",
      "metadata": {
        "colab": {
          "base_uri": "https://localhost:8080/"
        },
        "id": "FIbJG1nSE8al",
        "outputId": "39bdb494-4e70-4024-bd75-1c22e5970b3f"
      },
      "source": [
        "train_dataset_url = \"https://raw.githubusercontent.com/ModestasCepulis/RobsProjectPart3/main/healthcare-dataset-stroke-data.csv\"\n",
        "\n",
        "train_dataset_fp = tf.keras.utils.get_file(fname=os.path.basename(train_dataset_url),\n",
        "                                           origin=train_dataset_url)\n",
        "\n",
        "print(\"Local copy of the dataset file: {}\".format(train_dataset_fp))"
      ],
      "execution_count": 2,
      "outputs": [
        {
          "output_type": "stream",
          "text": [
            "Local copy of the dataset file: /root/.keras/datasets/healthcare-dataset-stroke-data.csv\n"
          ],
          "name": "stdout"
        }
      ]
    },
    {
      "cell_type": "code",
      "metadata": {
        "id": "YJSiG8LlE9eN"
      },
      "source": [
        "df = pd.read_csv(train_dataset_url)"
      ],
      "execution_count": 3,
      "outputs": []
    },
    {
      "cell_type": "code",
      "metadata": {
        "colab": {
          "base_uri": "https://localhost:8080/",
          "height": 419
        },
        "id": "Tor9a3XhE_lG",
        "outputId": "e6b2cd34-da48-4966-caee-6172b681ab86"
      },
      "source": [
        "df.head(1000)"
      ],
      "execution_count": 4,
      "outputs": [
        {
          "output_type": "execute_result",
          "data": {
            "text/html": [
              "<div>\n",
              "<style scoped>\n",
              "    .dataframe tbody tr th:only-of-type {\n",
              "        vertical-align: middle;\n",
              "    }\n",
              "\n",
              "    .dataframe tbody tr th {\n",
              "        vertical-align: top;\n",
              "    }\n",
              "\n",
              "    .dataframe thead th {\n",
              "        text-align: right;\n",
              "    }\n",
              "</style>\n",
              "<table border=\"1\" class=\"dataframe\">\n",
              "  <thead>\n",
              "    <tr style=\"text-align: right;\">\n",
              "      <th></th>\n",
              "      <th>id</th>\n",
              "      <th>gender</th>\n",
              "      <th>age</th>\n",
              "      <th>hypertension</th>\n",
              "      <th>heart_disease</th>\n",
              "      <th>ever_married</th>\n",
              "      <th>work_type</th>\n",
              "      <th>Residence_type</th>\n",
              "      <th>avg_glucose_level</th>\n",
              "      <th>bmi</th>\n",
              "      <th>smoking_status</th>\n",
              "      <th>stroke</th>\n",
              "    </tr>\n",
              "  </thead>\n",
              "  <tbody>\n",
              "    <tr>\n",
              "      <th>0</th>\n",
              "      <td>9046</td>\n",
              "      <td>Male</td>\n",
              "      <td>67.00</td>\n",
              "      <td>0</td>\n",
              "      <td>1</td>\n",
              "      <td>Yes</td>\n",
              "      <td>Private</td>\n",
              "      <td>Urban</td>\n",
              "      <td>228.69</td>\n",
              "      <td>36.6</td>\n",
              "      <td>formerly smoked</td>\n",
              "      <td>1</td>\n",
              "    </tr>\n",
              "    <tr>\n",
              "      <th>1</th>\n",
              "      <td>51676</td>\n",
              "      <td>Female</td>\n",
              "      <td>61.00</td>\n",
              "      <td>0</td>\n",
              "      <td>0</td>\n",
              "      <td>Yes</td>\n",
              "      <td>Self-employed</td>\n",
              "      <td>Rural</td>\n",
              "      <td>202.21</td>\n",
              "      <td>NaN</td>\n",
              "      <td>never smoked</td>\n",
              "      <td>1</td>\n",
              "    </tr>\n",
              "    <tr>\n",
              "      <th>2</th>\n",
              "      <td>31112</td>\n",
              "      <td>Male</td>\n",
              "      <td>80.00</td>\n",
              "      <td>0</td>\n",
              "      <td>1</td>\n",
              "      <td>Yes</td>\n",
              "      <td>Private</td>\n",
              "      <td>Rural</td>\n",
              "      <td>105.92</td>\n",
              "      <td>32.5</td>\n",
              "      <td>never smoked</td>\n",
              "      <td>1</td>\n",
              "    </tr>\n",
              "    <tr>\n",
              "      <th>3</th>\n",
              "      <td>60182</td>\n",
              "      <td>Female</td>\n",
              "      <td>49.00</td>\n",
              "      <td>0</td>\n",
              "      <td>0</td>\n",
              "      <td>Yes</td>\n",
              "      <td>Private</td>\n",
              "      <td>Urban</td>\n",
              "      <td>171.23</td>\n",
              "      <td>34.4</td>\n",
              "      <td>smokes</td>\n",
              "      <td>1</td>\n",
              "    </tr>\n",
              "    <tr>\n",
              "      <th>4</th>\n",
              "      <td>1665</td>\n",
              "      <td>Female</td>\n",
              "      <td>79.00</td>\n",
              "      <td>1</td>\n",
              "      <td>0</td>\n",
              "      <td>Yes</td>\n",
              "      <td>Self-employed</td>\n",
              "      <td>Rural</td>\n",
              "      <td>174.12</td>\n",
              "      <td>24.0</td>\n",
              "      <td>never smoked</td>\n",
              "      <td>1</td>\n",
              "    </tr>\n",
              "    <tr>\n",
              "      <th>...</th>\n",
              "      <td>...</td>\n",
              "      <td>...</td>\n",
              "      <td>...</td>\n",
              "      <td>...</td>\n",
              "      <td>...</td>\n",
              "      <td>...</td>\n",
              "      <td>...</td>\n",
              "      <td>...</td>\n",
              "      <td>...</td>\n",
              "      <td>...</td>\n",
              "      <td>...</td>\n",
              "      <td>...</td>\n",
              "    </tr>\n",
              "    <tr>\n",
              "      <th>995</th>\n",
              "      <td>60211</td>\n",
              "      <td>Male</td>\n",
              "      <td>1.40</td>\n",
              "      <td>0</td>\n",
              "      <td>0</td>\n",
              "      <td>No</td>\n",
              "      <td>children</td>\n",
              "      <td>Urban</td>\n",
              "      <td>90.51</td>\n",
              "      <td>18.9</td>\n",
              "      <td>Unknown</td>\n",
              "      <td>0</td>\n",
              "    </tr>\n",
              "    <tr>\n",
              "      <th>996</th>\n",
              "      <td>53279</td>\n",
              "      <td>Male</td>\n",
              "      <td>0.24</td>\n",
              "      <td>0</td>\n",
              "      <td>0</td>\n",
              "      <td>No</td>\n",
              "      <td>children</td>\n",
              "      <td>Rural</td>\n",
              "      <td>118.87</td>\n",
              "      <td>16.3</td>\n",
              "      <td>Unknown</td>\n",
              "      <td>0</td>\n",
              "    </tr>\n",
              "    <tr>\n",
              "      <th>997</th>\n",
              "      <td>61715</td>\n",
              "      <td>Male</td>\n",
              "      <td>55.00</td>\n",
              "      <td>0</td>\n",
              "      <td>0</td>\n",
              "      <td>Yes</td>\n",
              "      <td>Private</td>\n",
              "      <td>Rural</td>\n",
              "      <td>56.42</td>\n",
              "      <td>31.8</td>\n",
              "      <td>never smoked</td>\n",
              "      <td>0</td>\n",
              "    </tr>\n",
              "    <tr>\n",
              "      <th>998</th>\n",
              "      <td>37830</td>\n",
              "      <td>Female</td>\n",
              "      <td>29.00</td>\n",
              "      <td>0</td>\n",
              "      <td>0</td>\n",
              "      <td>No</td>\n",
              "      <td>Private</td>\n",
              "      <td>Urban</td>\n",
              "      <td>73.67</td>\n",
              "      <td>21.0</td>\n",
              "      <td>Unknown</td>\n",
              "      <td>0</td>\n",
              "    </tr>\n",
              "    <tr>\n",
              "      <th>999</th>\n",
              "      <td>2454</td>\n",
              "      <td>Male</td>\n",
              "      <td>4.00</td>\n",
              "      <td>0</td>\n",
              "      <td>0</td>\n",
              "      <td>No</td>\n",
              "      <td>children</td>\n",
              "      <td>Rural</td>\n",
              "      <td>89.11</td>\n",
              "      <td>20.1</td>\n",
              "      <td>Unknown</td>\n",
              "      <td>0</td>\n",
              "    </tr>\n",
              "  </tbody>\n",
              "</table>\n",
              "<p>1000 rows × 12 columns</p>\n",
              "</div>"
            ],
            "text/plain": [
              "        id  gender    age  ...   bmi   smoking_status stroke\n",
              "0     9046    Male  67.00  ...  36.6  formerly smoked      1\n",
              "1    51676  Female  61.00  ...   NaN     never smoked      1\n",
              "2    31112    Male  80.00  ...  32.5     never smoked      1\n",
              "3    60182  Female  49.00  ...  34.4           smokes      1\n",
              "4     1665  Female  79.00  ...  24.0     never smoked      1\n",
              "..     ...     ...    ...  ...   ...              ...    ...\n",
              "995  60211    Male   1.40  ...  18.9          Unknown      0\n",
              "996  53279    Male   0.24  ...  16.3          Unknown      0\n",
              "997  61715    Male  55.00  ...  31.8     never smoked      0\n",
              "998  37830  Female  29.00  ...  21.0          Unknown      0\n",
              "999   2454    Male   4.00  ...  20.1          Unknown      0\n",
              "\n",
              "[1000 rows x 12 columns]"
            ]
          },
          "metadata": {
            "tags": []
          },
          "execution_count": 4
        }
      ]
    },
    {
      "cell_type": "markdown",
      "metadata": {
        "id": "ID5XMNKjbY1T"
      },
      "source": [
        "dealing with missing values:"
      ]
    },
    {
      "cell_type": "code",
      "metadata": {
        "colab": {
          "base_uri": "https://localhost:8080/"
        },
        "id": "cqgccliqbYYI",
        "outputId": "7d05072c-403b-44dd-a39a-4496157fa2e8"
      },
      "source": [
        "df.isnull().sum()"
      ],
      "execution_count": 5,
      "outputs": [
        {
          "output_type": "execute_result",
          "data": {
            "text/plain": [
              "id                     0\n",
              "gender                 0\n",
              "age                    0\n",
              "hypertension           0\n",
              "heart_disease          0\n",
              "ever_married           0\n",
              "work_type              0\n",
              "Residence_type         0\n",
              "avg_glucose_level      0\n",
              "bmi                  201\n",
              "smoking_status         0\n",
              "stroke                 0\n",
              "dtype: int64"
            ]
          },
          "metadata": {
            "tags": []
          },
          "execution_count": 5
        }
      ]
    },
    {
      "cell_type": "code",
      "metadata": {
        "id": "FZvN0SoVbdfn"
      },
      "source": [
        "# A really fantsatic and intelligent way to deal with blanks, from Thoman Konstantin in: https://www.kaggle.com/thomaskonstantin/analyzing-and-modeling-stroke-data\n",
        "\n",
        "DT_bmi_pipe = Pipeline( steps=[ \n",
        "                               ('scale',StandardScaler()),\n",
        "                               ('lr',DecisionTreeRegressor(random_state=42))\n",
        "                              ])\n",
        "X = df[['age','gender','bmi']].copy()\n",
        "X.gender = X.gender.replace({'Male':0,'Female':1,'Other':-1}).astype(np.uint8)\n",
        "\n",
        "Missing = X[X.bmi.isna()]\n",
        "X = X[~X.bmi.isna()]\n",
        "Y = X.pop('bmi')\n",
        "DT_bmi_pipe.fit(X,Y)\n",
        "predicted_bmi = pd.Series(DT_bmi_pipe.predict(Missing[['age','gender']]),index=Missing.index)\n",
        "df.loc[Missing.index,'bmi'] = predicted_bmi"
      ],
      "execution_count": 6,
      "outputs": []
    },
    {
      "cell_type": "markdown",
      "metadata": {
        "id": "lUP48b6Bb2HI"
      },
      "source": [
        "Now we need to check to make sure if all the null values are gone:"
      ]
    },
    {
      "cell_type": "code",
      "metadata": {
        "colab": {
          "base_uri": "https://localhost:8080/"
        },
        "id": "3G8g2nWzb4u_",
        "outputId": "7222e607-cb6c-4eb4-e782-c9ec900d6918"
      },
      "source": [
        "print('Missing values: ',sum(df.isnull().sum()))"
      ],
      "execution_count": 7,
      "outputs": [
        {
          "output_type": "stream",
          "text": [
            "Missing values:  0\n"
          ],
          "name": "stdout"
        }
      ]
    },
    {
      "cell_type": "markdown",
      "metadata": {
        "id": "ZZF57hMcGwzZ"
      },
      "source": [
        "Once we have the data, now we need to look at the stroke values for each gender.\n",
        "1 being there was a stroke and 0 being there stroke didnt happen"
      ]
    },
    {
      "cell_type": "code",
      "metadata": {
        "colab": {
          "base_uri": "https://localhost:8080/"
        },
        "id": "OvTRWcipFAY3",
        "outputId": "a7914553-002a-4b09-8939-3f450c0f828f"
      },
      "source": [
        "groupfilter = df.groupby(['gender'])\n",
        "AllTheStates = groupfilter['stroke'].count()\n",
        "print(AllTheStates)"
      ],
      "execution_count": 8,
      "outputs": [
        {
          "output_type": "stream",
          "text": [
            "gender\n",
            "Female    2994\n",
            "Male      2115\n",
            "Other        1\n",
            "Name: stroke, dtype: int64\n"
          ],
          "name": "stdout"
        }
      ]
    },
    {
      "cell_type": "code",
      "metadata": {
        "colab": {
          "base_uri": "https://localhost:8080/"
        },
        "id": "1JEldPhIFOWn",
        "outputId": "69d0a52f-4185-4bce-d404-57e7dd05d346"
      },
      "source": [
        "allStrokeData = groupfilter['stroke'].value_counts()\n",
        "allStrokeData"
      ],
      "execution_count": 9,
      "outputs": [
        {
          "output_type": "execute_result",
          "data": {
            "text/plain": [
              "gender  stroke\n",
              "Female  0         2853\n",
              "        1          141\n",
              "Male    0         2007\n",
              "        1          108\n",
              "Other   0            1\n",
              "Name: stroke, dtype: int64"
            ]
          },
          "metadata": {
            "tags": []
          },
          "execution_count": 9
        }
      ]
    },
    {
      "cell_type": "code",
      "metadata": {
        "colab": {
          "base_uri": "https://localhost:8080/"
        },
        "id": "i5NZM6HzJTbt",
        "outputId": "d3bb7b66-309e-4fe3-cb03-dd01c8d63968"
      },
      "source": [
        "totalAmountOfStates = allStrokeData[1] + allStrokeData[3]\n",
        "print(\"Total Amount Of States: \")\n",
        "print(totalAmountOfStates)"
      ],
      "execution_count": 10,
      "outputs": [
        {
          "output_type": "stream",
          "text": [
            "Total Amount Of States: \n",
            "249\n"
          ],
          "name": "stdout"
        }
      ]
    },
    {
      "cell_type": "code",
      "metadata": {
        "id": "pIXR3UsBGK_X"
      },
      "source": [
        "totalStrokesFemale = allStrokeData[1]\n",
        "totalStrokesMale = allStrokeData[3]\n",
        "totalStrokeOther = allStrokeData[4]\n",
        "totalStrokeCount = totalAmountOfStates"
      ],
      "execution_count": 11,
      "outputs": []
    },
    {
      "cell_type": "code",
      "metadata": {
        "colab": {
          "base_uri": "https://localhost:8080/",
          "height": 265
        },
        "id": "QWFyNaJZHRPe",
        "outputId": "5b22dd0c-89c3-4d3b-c4a6-a2fe151a6b94"
      },
      "source": [
        "# set width of bars\n",
        "barWidth = 0.25\n",
        " \n",
        "# set heights of bars\n",
        "bars1 = [totalStrokesFemale]\n",
        "bars2 = [totalStrokesMale]\n",
        "bars3 = [totalStrokeOther]\n",
        "bars4 = [totalStrokeCount]\n",
        " \n",
        "# Set position of bar on X axis\n",
        "r1 = np.arange(len(bars1))\n",
        "r2 = [x + barWidth for x in r1]\n",
        "r3 = [x + barWidth for x in r2]\n",
        "r4 = [x + barWidth for x in r3]\n",
        " \n",
        "# Make the plot\n",
        "plt.bar(r1, bars1, color='#557f2d', width=barWidth, edgecolor='white', label='Total male strokes')\n",
        "plt.bar(r2, bars2, color='#7f6d5f', width=barWidth, edgecolor='white', label='Total female strokes')\n",
        "plt.bar(r3, bars3, color='#2d7f5e', width=barWidth, edgecolor='white', label='Total other strokes')\n",
        "plt.bar(r4, bars4, color='#2d7f5e', width=barWidth, edgecolor='white', label='Total no. of strokes')\n",
        " \n",
        "# Add xticks on the middle of the group bars\n",
        "plt.xticks([r + barWidth for r in range(len(bars1))], ['Film & Video', 'Music', 'Publishing'])\n",
        " \n",
        "# Create legend & Show graphic\n",
        "plt.legend()\n",
        "plt.show()"
      ],
      "execution_count": 12,
      "outputs": [
        {
          "output_type": "display_data",
          "data": {
            "image/png": "[encoded data removed]",
            "text/plain": [
              "<Figure size 432x288 with 1 Axes>"
            ]
          },
          "metadata": {
            "tags": [],
            "needs_background": "light"
          }
        }
      ]
    },
    {
      "cell_type": "markdown",
      "metadata": {
        "id": "7WTCJAHfKa6j"
      },
      "source": [
        "from the barchart we can see that \"males\" are usually more likely to get a stroke"
      ]
    },
    {
      "cell_type": "markdown",
      "metadata": {
        "id": "miJJpFrpTgv0"
      },
      "source": [
        "this shows the probablity of each value for a stroke to occur"
      ]
    },
    {
      "cell_type": "code",
      "metadata": {
        "colab": {
          "base_uri": "https://localhost:8080/",
          "height": 1000
        },
        "id": "tJQuA-KNKfR3",
        "outputId": "ebce1245-d13e-4e8a-d5f8-b96cef6fb64c"
      },
      "source": [
        "fig=plt.figure(figsize=(16, 24))\n",
        "\n",
        "for index, column in enumerate(list(df.columns.drop(['stroke', 'id', 'age', 'gender', 'avg_glucose_level', 'bmi']).values)):\n",
        "    fig.add_subplot(4, 2, index + 1)\n",
        "    plots = sns.barplot(data=df, y=\"stroke\",palette=\"tab10\", x=column)\n",
        "\n",
        "plt.show()"
      ],
      "execution_count": 13,
      "outputs": [
        {
          "output_type": "display_data",
          "data": {
            "image/png": "[encoded data removed]",
            "text/plain": [
              "<Figure size 1152x1728 with 6 Axes>"
            ]
          },
          "metadata": {
            "tags": [],
            "needs_background": "light"
          }
        }
      ]
    },
    {
      "cell_type": "markdown",
      "metadata": {
        "id": "xem5PZEgK5TS"
      },
      "source": [
        "# FINDINGS OF INTRODUCTION:"
      ]
    },
    {
      "cell_type": "markdown",
      "metadata": {
        "id": "2ZijrWfrMChi"
      },
      "source": [
        "From the data, we can see that people that are more likely to haves strokes are:\n",
        "\n",
        "\n",
        "\n",
        "*   Males\n",
        "*   Self Employed\n",
        "*   People that have high blood pressure\n",
        "*   People that have/had heart diseases\n",
        "*   That live in Urban areas\n",
        "*   Former Smokers\n",
        "*   Married people\n",
        "\n",
        "\n",
        "\n",
        "\n",
        "\n"
      ]
    },
    {
      "cell_type": "markdown",
      "metadata": {
        "id": "CVD4a8FtNocX"
      },
      "source": [
        "From the data, we can see that people that are less likely to haves strokes are:\n",
        "\n",
        "\n",
        "\n",
        "*   Females\n",
        "*   People that never worked\n",
        "*   People that normal blood pressure\n",
        "*   People that never had (no) heart diseases\n",
        "*   That live in Rural areas\n",
        "*   People that never Smoked\n",
        "*   People that are not married\n",
        "\n",
        "\n",
        "\n",
        "\n",
        "\n"
      ]
    },
    {
      "cell_type": "markdown",
      "metadata": {
        "id": "1RsecBhMOVPY"
      },
      "source": [
        "Now we can look at the data correlation between the stroke, bmi, avg_glucose levels and age"
      ]
    },
    {
      "cell_type": "code",
      "metadata": {
        "colab": {
          "base_uri": "https://localhost:8080/",
          "height": 885
        },
        "id": "N4KGNRD_OAjj",
        "outputId": "42326df8-4b5c-4617-abf3-80312161a9c1"
      },
      "source": [
        "corr = pd.DataFrame(df.drop(['id', 'heart_disease', 'hypertension'], axis = 1).corr())\n",
        "\n",
        "plt.figure(figsize=(20,15))\n",
        "sns.heatmap(corr, vmin=-1, vmax=1, annot=True)"
      ],
      "execution_count": 14,
      "outputs": [
        {
          "output_type": "execute_result",
          "data": {
            "text/plain": [
              "<matplotlib.axes._subplots.AxesSubplot at 0x7f027dd1b190>"
            ]
          },
          "metadata": {
            "tags": []
          },
          "execution_count": 14
        },
        {
          "output_type": "display_data",
          "data": {
            "image/png": "[encoded data removed]",
            "text/plain": [
              "<Figure size 1440x1080 with 2 Axes>"
            ]
          },
          "metadata": {
            "tags": [],
            "needs_background": "light"
          }
        }
      ]
    },
    {
      "cell_type": "markdown",
      "metadata": {
        "id": "Whj6nReAK9op"
      },
      "source": [
        "# PART ONE, TRYING OUT DIFFERENT MACHINE LEARNING ALGORITHMS AND COMPARING THEM:"
      ]
    },
    {
      "cell_type": "markdown",
      "metadata": {
        "id": "7CN05NnYOf97"
      },
      "source": [
        "this tells us that people with 'higher' (older people) age values are more likely to get a stroke"
      ]
    },
    {
      "cell_type": "markdown",
      "metadata": {
        "id": "H8uxicK9O6Sy"
      },
      "source": [
        "by knowing that gender and age have a big role of resulting in a stroke, we can try to train this data by using a machine learning decision tree for data training"
      ]
    },
    {
      "cell_type": "markdown",
      "metadata": {
        "id": "uU_bAdAW86s5"
      },
      "source": [
        "Decision tree machine learning could try to predict the values for example if a person would have a stroke or not, based on the values provided by the dataset.\n",
        "\n",
        "In the end, the model could hopefully predict a stroke scenario"
      ]
    },
    {
      "cell_type": "code",
      "metadata": {
        "colab": {
          "base_uri": "https://localhost:8080/",
          "height": 419
        },
        "id": "aX3f3CTPOFbe",
        "outputId": "6d8f58ce-6f41-4ba2-b3f6-ce0859a141d4"
      },
      "source": [
        "df.head(5000)"
      ],
      "execution_count": 15,
      "outputs": [
        {
          "output_type": "execute_result",
          "data": {
            "text/html": [
              "<div>\n",
              "<style scoped>\n",
              "    .dataframe tbody tr th:only-of-type {\n",
              "        vertical-align: middle;\n",
              "    }\n",
              "\n",
              "    .dataframe tbody tr th {\n",
              "        vertical-align: top;\n",
              "    }\n",
              "\n",
              "    .dataframe thead th {\n",
              "        text-align: right;\n",
              "    }\n",
              "</style>\n",
              "<table border=\"1\" class=\"dataframe\">\n",
              "  <thead>\n",
              "    <tr style=\"text-align: right;\">\n",
              "      <th></th>\n",
              "      <th>id</th>\n",
              "      <th>gender</th>\n",
              "      <th>age</th>\n",
              "      <th>hypertension</th>\n",
              "      <th>heart_disease</th>\n",
              "      <th>ever_married</th>\n",
              "      <th>work_type</th>\n",
              "      <th>Residence_type</th>\n",
              "      <th>avg_glucose_level</th>\n",
              "      <th>bmi</th>\n",
              "      <th>smoking_status</th>\n",
              "      <th>stroke</th>\n",
              "    </tr>\n",
              "  </thead>\n",
              "  <tbody>\n",
              "    <tr>\n",
              "      <th>0</th>\n",
              "      <td>9046</td>\n",
              "      <td>Male</td>\n",
              "      <td>67.0</td>\n",
              "      <td>0</td>\n",
              "      <td>1</td>\n",
              "      <td>Yes</td>\n",
              "      <td>Private</td>\n",
              "      <td>Urban</td>\n",
              "      <td>228.69</td>\n",
              "      <td>36.600000</td>\n",
              "      <td>formerly smoked</td>\n",
              "      <td>1</td>\n",
              "    </tr>\n",
              "    <tr>\n",
              "      <th>1</th>\n",
              "      <td>51676</td>\n",
              "      <td>Female</td>\n",
              "      <td>61.0</td>\n",
              "      <td>0</td>\n",
              "      <td>0</td>\n",
              "      <td>Yes</td>\n",
              "      <td>Self-employed</td>\n",
              "      <td>Rural</td>\n",
              "      <td>202.21</td>\n",
              "      <td>29.879487</td>\n",
              "      <td>never smoked</td>\n",
              "      <td>1</td>\n",
              "    </tr>\n",
              "    <tr>\n",
              "      <th>2</th>\n",
              "      <td>31112</td>\n",
              "      <td>Male</td>\n",
              "      <td>80.0</td>\n",
              "      <td>0</td>\n",
              "      <td>1</td>\n",
              "      <td>Yes</td>\n",
              "      <td>Private</td>\n",
              "      <td>Rural</td>\n",
              "      <td>105.92</td>\n",
              "      <td>32.500000</td>\n",
              "      <td>never smoked</td>\n",
              "      <td>1</td>\n",
              "    </tr>\n",
              "    <tr>\n",
              "      <th>3</th>\n",
              "      <td>60182</td>\n",
              "      <td>Female</td>\n",
              "      <td>49.0</td>\n",
              "      <td>0</td>\n",
              "      <td>0</td>\n",
              "      <td>Yes</td>\n",
              "      <td>Private</td>\n",
              "      <td>Urban</td>\n",
              "      <td>171.23</td>\n",
              "      <td>34.400000</td>\n",
              "      <td>smokes</td>\n",
              "      <td>1</td>\n",
              "    </tr>\n",
              "    <tr>\n",
              "      <th>4</th>\n",
              "      <td>1665</td>\n",
              "      <td>Female</td>\n",
              "      <td>79.0</td>\n",
              "      <td>1</td>\n",
              "      <td>0</td>\n",
              "      <td>Yes</td>\n",
              "      <td>Self-employed</td>\n",
              "      <td>Rural</td>\n",
              "      <td>174.12</td>\n",
              "      <td>24.000000</td>\n",
              "      <td>never smoked</td>\n",
              "      <td>1</td>\n",
              "    </tr>\n",
              "    <tr>\n",
              "      <th>...</th>\n",
              "      <td>...</td>\n",
              "      <td>...</td>\n",
              "      <td>...</td>\n",
              "      <td>...</td>\n",
              "      <td>...</td>\n",
              "      <td>...</td>\n",
              "      <td>...</td>\n",
              "      <td>...</td>\n",
              "      <td>...</td>\n",
              "      <td>...</td>\n",
              "      <td>...</td>\n",
              "      <td>...</td>\n",
              "    </tr>\n",
              "    <tr>\n",
              "      <th>4995</th>\n",
              "      <td>5964</td>\n",
              "      <td>Female</td>\n",
              "      <td>59.0</td>\n",
              "      <td>0</td>\n",
              "      <td>0</td>\n",
              "      <td>Yes</td>\n",
              "      <td>Private</td>\n",
              "      <td>Urban</td>\n",
              "      <td>182.52</td>\n",
              "      <td>30.100000</td>\n",
              "      <td>Unknown</td>\n",
              "      <td>0</td>\n",
              "    </tr>\n",
              "    <tr>\n",
              "      <th>4996</th>\n",
              "      <td>6976</td>\n",
              "      <td>Female</td>\n",
              "      <td>40.0</td>\n",
              "      <td>0</td>\n",
              "      <td>0</td>\n",
              "      <td>Yes</td>\n",
              "      <td>Private</td>\n",
              "      <td>Urban</td>\n",
              "      <td>93.97</td>\n",
              "      <td>23.600000</td>\n",
              "      <td>never smoked</td>\n",
              "      <td>0</td>\n",
              "    </tr>\n",
              "    <tr>\n",
              "      <th>4997</th>\n",
              "      <td>11145</td>\n",
              "      <td>Female</td>\n",
              "      <td>8.0</td>\n",
              "      <td>0</td>\n",
              "      <td>0</td>\n",
              "      <td>No</td>\n",
              "      <td>children</td>\n",
              "      <td>Urban</td>\n",
              "      <td>104.03</td>\n",
              "      <td>18.400000</td>\n",
              "      <td>Unknown</td>\n",
              "      <td>0</td>\n",
              "    </tr>\n",
              "    <tr>\n",
              "      <th>4998</th>\n",
              "      <td>39229</td>\n",
              "      <td>Female</td>\n",
              "      <td>24.0</td>\n",
              "      <td>0</td>\n",
              "      <td>0</td>\n",
              "      <td>Yes</td>\n",
              "      <td>Private</td>\n",
              "      <td>Rural</td>\n",
              "      <td>67.99</td>\n",
              "      <td>32.100000</td>\n",
              "      <td>never smoked</td>\n",
              "      <td>0</td>\n",
              "    </tr>\n",
              "    <tr>\n",
              "      <th>4999</th>\n",
              "      <td>14189</td>\n",
              "      <td>Male</td>\n",
              "      <td>18.0</td>\n",
              "      <td>0</td>\n",
              "      <td>0</td>\n",
              "      <td>No</td>\n",
              "      <td>Private</td>\n",
              "      <td>Rural</td>\n",
              "      <td>83.37</td>\n",
              "      <td>24.400000</td>\n",
              "      <td>Unknown</td>\n",
              "      <td>0</td>\n",
              "    </tr>\n",
              "  </tbody>\n",
              "</table>\n",
              "<p>5000 rows × 12 columns</p>\n",
              "</div>"
            ],
            "text/plain": [
              "         id  gender   age  ...        bmi   smoking_status stroke\n",
              "0      9046    Male  67.0  ...  36.600000  formerly smoked      1\n",
              "1     51676  Female  61.0  ...  29.879487     never smoked      1\n",
              "2     31112    Male  80.0  ...  32.500000     never smoked      1\n",
              "3     60182  Female  49.0  ...  34.400000           smokes      1\n",
              "4      1665  Female  79.0  ...  24.000000     never smoked      1\n",
              "...     ...     ...   ...  ...        ...              ...    ...\n",
              "4995   5964  Female  59.0  ...  30.100000          Unknown      0\n",
              "4996   6976  Female  40.0  ...  23.600000     never smoked      0\n",
              "4997  11145  Female   8.0  ...  18.400000          Unknown      0\n",
              "4998  39229  Female  24.0  ...  32.100000     never smoked      0\n",
              "4999  14189    Male  18.0  ...  24.400000          Unknown      0\n",
              "\n",
              "[5000 rows x 12 columns]"
            ]
          },
          "metadata": {
            "tags": []
          },
          "execution_count": 15
        }
      ]
    },
    {
      "cell_type": "markdown",
      "metadata": {
        "id": "f5WbKtzrPrNW"
      },
      "source": [
        "first we need to separate the two values of gender and age into a seperate dataset"
      ]
    },
    {
      "cell_type": "code",
      "metadata": {
        "colab": {
          "base_uri": "https://localhost:8080/",
          "height": 419
        },
        "id": "g-Ih2XKCOuFr",
        "outputId": "d9c0b57d-46f4-4218-a898-4e4c677aba4f"
      },
      "source": [
        "#X = df.drop(columns=['id','hypertension','heart_disease','ever_married','work_type','Residence_type','avg_glucose_level','bmi','smoking_status', 'stroke'])\n",
        "X = df.drop(columns=['id','avg_glucose_level','bmi','stroke'])\n",
        "#X = df.drop(columns=['id','stroke'])\n",
        "X"
      ],
      "execution_count": 16,
      "outputs": [
        {
          "output_type": "execute_result",
          "data": {
            "text/html": [
              "<div>\n",
              "<style scoped>\n",
              "    .dataframe tbody tr th:only-of-type {\n",
              "        vertical-align: middle;\n",
              "    }\n",
              "\n",
              "    .dataframe tbody tr th {\n",
              "        vertical-align: top;\n",
              "    }\n",
              "\n",
              "    .dataframe thead th {\n",
              "        text-align: right;\n",
              "    }\n",
              "</style>\n",
              "<table border=\"1\" class=\"dataframe\">\n",
              "  <thead>\n",
              "    <tr style=\"text-align: right;\">\n",
              "      <th></th>\n",
              "      <th>gender</th>\n",
              "      <th>age</th>\n",
              "      <th>hypertension</th>\n",
              "      <th>heart_disease</th>\n",
              "      <th>ever_married</th>\n",
              "      <th>work_type</th>\n",
              "      <th>Residence_type</th>\n",
              "      <th>smoking_status</th>\n",
              "    </tr>\n",
              "  </thead>\n",
              "  <tbody>\n",
              "    <tr>\n",
              "      <th>0</th>\n",
              "      <td>Male</td>\n",
              "      <td>67.0</td>\n",
              "      <td>0</td>\n",
              "      <td>1</td>\n",
              "      <td>Yes</td>\n",
              "      <td>Private</td>\n",
              "      <td>Urban</td>\n",
              "      <td>formerly smoked</td>\n",
              "    </tr>\n",
              "    <tr>\n",
              "      <th>1</th>\n",
              "      <td>Female</td>\n",
              "      <td>61.0</td>\n",
              "      <td>0</td>\n",
              "      <td>0</td>\n",
              "      <td>Yes</td>\n",
              "      <td>Self-employed</td>\n",
              "      <td>Rural</td>\n",
              "      <td>never smoked</td>\n",
              "    </tr>\n",
              "    <tr>\n",
              "      <th>2</th>\n",
              "      <td>Male</td>\n",
              "      <td>80.0</td>\n",
              "      <td>0</td>\n",
              "      <td>1</td>\n",
              "      <td>Yes</td>\n",
              "      <td>Private</td>\n",
              "      <td>Rural</td>\n",
              "      <td>never smoked</td>\n",
              "    </tr>\n",
              "    <tr>\n",
              "      <th>3</th>\n",
              "      <td>Female</td>\n",
              "      <td>49.0</td>\n",
              "      <td>0</td>\n",
              "      <td>0</td>\n",
              "      <td>Yes</td>\n",
              "      <td>Private</td>\n",
              "      <td>Urban</td>\n",
              "      <td>smokes</td>\n",
              "    </tr>\n",
              "    <tr>\n",
              "      <th>4</th>\n",
              "      <td>Female</td>\n",
              "      <td>79.0</td>\n",
              "      <td>1</td>\n",
              "      <td>0</td>\n",
              "      <td>Yes</td>\n",
              "      <td>Self-employed</td>\n",
              "      <td>Rural</td>\n",
              "      <td>never smoked</td>\n",
              "    </tr>\n",
              "    <tr>\n",
              "      <th>...</th>\n",
              "      <td>...</td>\n",
              "      <td>...</td>\n",
              "      <td>...</td>\n",
              "      <td>...</td>\n",
              "      <td>...</td>\n",
              "      <td>...</td>\n",
              "      <td>...</td>\n",
              "      <td>...</td>\n",
              "    </tr>\n",
              "    <tr>\n",
              "      <th>5105</th>\n",
              "      <td>Female</td>\n",
              "      <td>80.0</td>\n",
              "      <td>1</td>\n",
              "      <td>0</td>\n",
              "      <td>Yes</td>\n",
              "      <td>Private</td>\n",
              "      <td>Urban</td>\n",
              "      <td>never smoked</td>\n",
              "    </tr>\n",
              "    <tr>\n",
              "      <th>5106</th>\n",
              "      <td>Female</td>\n",
              "      <td>81.0</td>\n",
              "      <td>0</td>\n",
              "      <td>0</td>\n",
              "      <td>Yes</td>\n",
              "      <td>Self-employed</td>\n",
              "      <td>Urban</td>\n",
              "      <td>never smoked</td>\n",
              "    </tr>\n",
              "    <tr>\n",
              "      <th>5107</th>\n",
              "      <td>Female</td>\n",
              "      <td>35.0</td>\n",
              "      <td>0</td>\n",
              "      <td>0</td>\n",
              "      <td>Yes</td>\n",
              "      <td>Self-employed</td>\n",
              "      <td>Rural</td>\n",
              "      <td>never smoked</td>\n",
              "    </tr>\n",
              "    <tr>\n",
              "      <th>5108</th>\n",
              "      <td>Male</td>\n",
              "      <td>51.0</td>\n",
              "      <td>0</td>\n",
              "      <td>0</td>\n",
              "      <td>Yes</td>\n",
              "      <td>Private</td>\n",
              "      <td>Rural</td>\n",
              "      <td>formerly smoked</td>\n",
              "    </tr>\n",
              "    <tr>\n",
              "      <th>5109</th>\n",
              "      <td>Female</td>\n",
              "      <td>44.0</td>\n",
              "      <td>0</td>\n",
              "      <td>0</td>\n",
              "      <td>Yes</td>\n",
              "      <td>Govt_job</td>\n",
              "      <td>Urban</td>\n",
              "      <td>Unknown</td>\n",
              "    </tr>\n",
              "  </tbody>\n",
              "</table>\n",
              "<p>5110 rows × 8 columns</p>\n",
              "</div>"
            ],
            "text/plain": [
              "      gender   age  hypertension  ...      work_type Residence_type   smoking_status\n",
              "0       Male  67.0             0  ...        Private          Urban  formerly smoked\n",
              "1     Female  61.0             0  ...  Self-employed          Rural     never smoked\n",
              "2       Male  80.0             0  ...        Private          Rural     never smoked\n",
              "3     Female  49.0             0  ...        Private          Urban           smokes\n",
              "4     Female  79.0             1  ...  Self-employed          Rural     never smoked\n",
              "...      ...   ...           ...  ...            ...            ...              ...\n",
              "5105  Female  80.0             1  ...        Private          Urban     never smoked\n",
              "5106  Female  81.0             0  ...  Self-employed          Urban     never smoked\n",
              "5107  Female  35.0             0  ...  Self-employed          Rural     never smoked\n",
              "5108    Male  51.0             0  ...        Private          Rural  formerly smoked\n",
              "5109  Female  44.0             0  ...       Govt_job          Urban          Unknown\n",
              "\n",
              "[5110 rows x 8 columns]"
            ]
          },
          "metadata": {
            "tags": []
          },
          "execution_count": 16
        }
      ]
    },
    {
      "cell_type": "markdown",
      "metadata": {
        "id": "ucOV6iowRWyE"
      },
      "source": [
        "in order to work with a decistion tree algorithm, we need to replace the gender from males and females to float variables.\n",
        "\n",
        "\n",
        "\n",
        "*   Males = 0\n",
        "*   Females = 1\n",
        "\n"
      ]
    },
    {
      "cell_type": "code",
      "metadata": {
        "colab": {
          "base_uri": "https://localhost:8080/"
        },
        "id": "BzSYtkGyYdO5",
        "outputId": "9a9381fd-2533-4ce0-c718-7d1feb5e7de7"
      },
      "source": [
        "groupfilter = X.groupby(['smoking_status'])\n",
        "AllWorkTypes = groupfilter['smoking_status'].count()\n",
        "print(AllWorkTypes)"
      ],
      "execution_count": 17,
      "outputs": [
        {
          "output_type": "stream",
          "text": [
            "smoking_status\n",
            "Unknown            1544\n",
            "formerly smoked     885\n",
            "never smoked       1892\n",
            "smokes              789\n",
            "Name: smoking_status, dtype: int64\n"
          ],
          "name": "stdout"
        }
      ]
    },
    {
      "cell_type": "code",
      "metadata": {
        "colab": {
          "base_uri": "https://localhost:8080/"
        },
        "id": "wj7a79urYaYy",
        "outputId": "df804ccb-d926-4dd8-f207-eebf6431388c"
      },
      "source": [
        "groupfilter = X.groupby(['work_type'])\n",
        "AllWorkTypes = groupfilter['work_type'].count()\n",
        "print(AllWorkTypes)"
      ],
      "execution_count": 18,
      "outputs": [
        {
          "output_type": "stream",
          "text": [
            "work_type\n",
            "Govt_job          657\n",
            "Never_worked       22\n",
            "Private          2925\n",
            "Self-employed     819\n",
            "children          687\n",
            "Name: work_type, dtype: int64\n"
          ],
          "name": "stdout"
        }
      ]
    },
    {
      "cell_type": "code",
      "metadata": {
        "colab": {
          "base_uri": "https://localhost:8080/"
        },
        "id": "BV3LtswAZzTf",
        "outputId": "4e1bd968-d680-4aca-95cf-56e51128fdce"
      },
      "source": [
        "groupfilter = X.groupby(['Residence_type'])\n",
        "AllWorkTypes = groupfilter['Residence_type'].count()\n",
        "print(AllWorkTypes)"
      ],
      "execution_count": 19,
      "outputs": [
        {
          "output_type": "stream",
          "text": [
            "Residence_type\n",
            "Rural    2514\n",
            "Urban    2596\n",
            "Name: Residence_type, dtype: int64\n"
          ],
          "name": "stdout"
        }
      ]
    },
    {
      "cell_type": "markdown",
      "metadata": {
        "id": "7WTXSqGC9QFp"
      },
      "source": [
        "In order to work with decision trees we need to convert all of the string values to different in values as follows:\n"
      ]
    },
    {
      "cell_type": "code",
      "metadata": {
        "colab": {
          "base_uri": "https://localhost:8080/",
          "height": 419
        },
        "id": "IDe0i-vVRg4e",
        "outputId": "7ca690cb-702b-407c-9953-b8dc58e48f86"
      },
      "source": [
        "X[\"gender\"].replace({\"Male\": 0, \"Female\": 1, \"Other\":2}, inplace=True)\n",
        "\n",
        "X[\"ever_married\"].replace({\"No\": 0, \"Yes\": 1}, inplace=True)\n",
        "\n",
        "#Work_Type:: Never_worked = 0, private = 1, Govt_job = 2, self-employed = 3, children = 4\n",
        "X[\"work_type\"].replace({\"Never_worked\": 0, \"Private\": 1, \"Govt_job\":2, \"Self-employed\":3, \"children\":4}, inplace=True)\n",
        "\n",
        "#Smoking_status:: never smoked = 0, smokes = 1, formerly smoked = 2, unknown = 3\n",
        "X[\"smoking_status\"].replace({\"never smoked\": 0, \"smokes\": 1, \"formerly smoked\":2, \"Unknown\":3}, inplace=True)\n",
        "\n",
        "X[\"Residence_type\"].replace({\"Urban\": 0, \"Rural\": 1}, inplace=True)\n",
        "\n",
        "\n",
        "X"
      ],
      "execution_count": 20,
      "outputs": [
        {
          "output_type": "execute_result",
          "data": {
            "text/html": [
              "<div>\n",
              "<style scoped>\n",
              "    .dataframe tbody tr th:only-of-type {\n",
              "        vertical-align: middle;\n",
              "    }\n",
              "\n",
              "    .dataframe tbody tr th {\n",
              "        vertical-align: top;\n",
              "    }\n",
              "\n",
              "    .dataframe thead th {\n",
              "        text-align: right;\n",
              "    }\n",
              "</style>\n",
              "<table border=\"1\" class=\"dataframe\">\n",
              "  <thead>\n",
              "    <tr style=\"text-align: right;\">\n",
              "      <th></th>\n",
              "      <th>gender</th>\n",
              "      <th>age</th>\n",
              "      <th>hypertension</th>\n",
              "      <th>heart_disease</th>\n",
              "      <th>ever_married</th>\n",
              "      <th>work_type</th>\n",
              "      <th>Residence_type</th>\n",
              "      <th>smoking_status</th>\n",
              "    </tr>\n",
              "  </thead>\n",
              "  <tbody>\n",
              "    <tr>\n",
              "      <th>0</th>\n",
              "      <td>0</td>\n",
              "      <td>67.0</td>\n",
              "      <td>0</td>\n",
              "      <td>1</td>\n",
              "      <td>1</td>\n",
              "      <td>1</td>\n",
              "      <td>0</td>\n",
              "      <td>2</td>\n",
              "    </tr>\n",
              "    <tr>\n",
              "      <th>1</th>\n",
              "      <td>1</td>\n",
              "      <td>61.0</td>\n",
              "      <td>0</td>\n",
              "      <td>0</td>\n",
              "      <td>1</td>\n",
              "      <td>3</td>\n",
              "      <td>1</td>\n",
              "      <td>0</td>\n",
              "    </tr>\n",
              "    <tr>\n",
              "      <th>2</th>\n",
              "      <td>0</td>\n",
              "      <td>80.0</td>\n",
              "      <td>0</td>\n",
              "      <td>1</td>\n",
              "      <td>1</td>\n",
              "      <td>1</td>\n",
              "      <td>1</td>\n",
              "      <td>0</td>\n",
              "    </tr>\n",
              "    <tr>\n",
              "      <th>3</th>\n",
              "      <td>1</td>\n",
              "      <td>49.0</td>\n",
              "      <td>0</td>\n",
              "      <td>0</td>\n",
              "      <td>1</td>\n",
              "      <td>1</td>\n",
              "      <td>0</td>\n",
              "      <td>1</td>\n",
              "    </tr>\n",
              "    <tr>\n",
              "      <th>4</th>\n",
              "      <td>1</td>\n",
              "      <td>79.0</td>\n",
              "      <td>1</td>\n",
              "      <td>0</td>\n",
              "      <td>1</td>\n",
              "      <td>3</td>\n",
              "      <td>1</td>\n",
              "      <td>0</td>\n",
              "    </tr>\n",
              "    <tr>\n",
              "      <th>...</th>\n",
              "      <td>...</td>\n",
              "      <td>...</td>\n",
              "      <td>...</td>\n",
              "      <td>...</td>\n",
              "      <td>...</td>\n",
              "      <td>...</td>\n",
              "      <td>...</td>\n",
              "      <td>...</td>\n",
              "    </tr>\n",
              "    <tr>\n",
              "      <th>5105</th>\n",
              "      <td>1</td>\n",
              "      <td>80.0</td>\n",
              "      <td>1</td>\n",
              "      <td>0</td>\n",
              "      <td>1</td>\n",
              "      <td>1</td>\n",
              "      <td>0</td>\n",
              "      <td>0</td>\n",
              "    </tr>\n",
              "    <tr>\n",
              "      <th>5106</th>\n",
              "      <td>1</td>\n",
              "      <td>81.0</td>\n",
              "      <td>0</td>\n",
              "      <td>0</td>\n",
              "      <td>1</td>\n",
              "      <td>3</td>\n",
              "      <td>0</td>\n",
              "      <td>0</td>\n",
              "    </tr>\n",
              "    <tr>\n",
              "      <th>5107</th>\n",
              "      <td>1</td>\n",
              "      <td>35.0</td>\n",
              "      <td>0</td>\n",
              "      <td>0</td>\n",
              "      <td>1</td>\n",
              "      <td>3</td>\n",
              "      <td>1</td>\n",
              "      <td>0</td>\n",
              "    </tr>\n",
              "    <tr>\n",
              "      <th>5108</th>\n",
              "      <td>0</td>\n",
              "      <td>51.0</td>\n",
              "      <td>0</td>\n",
              "      <td>0</td>\n",
              "      <td>1</td>\n",
              "      <td>1</td>\n",
              "      <td>1</td>\n",
              "      <td>2</td>\n",
              "    </tr>\n",
              "    <tr>\n",
              "      <th>5109</th>\n",
              "      <td>1</td>\n",
              "      <td>44.0</td>\n",
              "      <td>0</td>\n",
              "      <td>0</td>\n",
              "      <td>1</td>\n",
              "      <td>2</td>\n",
              "      <td>0</td>\n",
              "      <td>3</td>\n",
              "    </tr>\n",
              "  </tbody>\n",
              "</table>\n",
              "<p>5110 rows × 8 columns</p>\n",
              "</div>"
            ],
            "text/plain": [
              "      gender   age  hypertension  ...  work_type  Residence_type  smoking_status\n",
              "0          0  67.0             0  ...          1               0               2\n",
              "1          1  61.0             0  ...          3               1               0\n",
              "2          0  80.0             0  ...          1               1               0\n",
              "3          1  49.0             0  ...          1               0               1\n",
              "4          1  79.0             1  ...          3               1               0\n",
              "...      ...   ...           ...  ...        ...             ...             ...\n",
              "5105       1  80.0             1  ...          1               0               0\n",
              "5106       1  81.0             0  ...          3               0               0\n",
              "5107       1  35.0             0  ...          3               1               0\n",
              "5108       0  51.0             0  ...          1               1               2\n",
              "5109       1  44.0             0  ...          2               0               3\n",
              "\n",
              "[5110 rows x 8 columns]"
            ]
          },
          "metadata": {
            "tags": []
          },
          "execution_count": 20
        }
      ]
    },
    {
      "cell_type": "markdown",
      "metadata": {
        "id": "x2W5wznPRuEj"
      },
      "source": [
        "in order to work with a decistion tree algorithm, we need to replace the stroke value from an integer to a string value\n",
        "\n",
        "\n",
        "*   0 = No (For no stroke happened)\n",
        "*   1 = Yes (For stroke occured)\n",
        "\n"
      ]
    },
    {
      "cell_type": "markdown",
      "metadata": {
        "id": "rLlLD6q-P2yz"
      },
      "source": [
        "now we need to get the 'final value' or the prediction which in this case is a stroke (1 or 0)"
      ]
    },
    {
      "cell_type": "code",
      "metadata": {
        "colab": {
          "base_uri": "https://localhost:8080/"
        },
        "id": "j-Mm-gz7PWJx",
        "outputId": "3368b2f9-130b-47ff-9582-084cc2254dad"
      },
      "source": [
        "Y = df['stroke'] \n",
        "Y"
      ],
      "execution_count": 21,
      "outputs": [
        {
          "output_type": "execute_result",
          "data": {
            "text/plain": [
              "0       1\n",
              "1       1\n",
              "2       1\n",
              "3       1\n",
              "4       1\n",
              "       ..\n",
              "5105    0\n",
              "5106    0\n",
              "5107    0\n",
              "5108    0\n",
              "5109    0\n",
              "Name: stroke, Length: 5110, dtype: int64"
            ]
          },
          "metadata": {
            "tags": []
          },
          "execution_count": 21
        }
      ]
    },
    {
      "cell_type": "markdown",
      "metadata": {
        "id": "Qfk3FfoQR_dX"
      },
      "source": [
        "in order to work with a decistion ree algorithm, we need to replace the stroke value from an integer to a string value\n",
        "\n",
        "\n",
        "*   0 = No (For no stroke happened)\n",
        "*   1 = Yes (For stroke occured)\n",
        "\n"
      ]
    },
    {
      "cell_type": "code",
      "metadata": {
        "colab": {
          "base_uri": "https://localhost:8080/"
        },
        "id": "N_ucswDTSDNO",
        "outputId": "3d3f0a7b-fe78-4ede-b270-5b16a5cc3722"
      },
      "source": [
        "Y.replace({0: \"No\", 1: \"Yes\"}, inplace=True)\n",
        "Y"
      ],
      "execution_count": 22,
      "outputs": [
        {
          "output_type": "execute_result",
          "data": {
            "text/plain": [
              "0       Yes\n",
              "1       Yes\n",
              "2       Yes\n",
              "3       Yes\n",
              "4       Yes\n",
              "       ... \n",
              "5105     No\n",
              "5106     No\n",
              "5107     No\n",
              "5108     No\n",
              "5109     No\n",
              "Name: stroke, Length: 5110, dtype: object"
            ]
          },
          "metadata": {
            "tags": []
          },
          "execution_count": 22
        }
      ]
    },
    {
      "cell_type": "code",
      "metadata": {
        "colab": {
          "base_uri": "https://localhost:8080/"
        },
        "id": "3mpAkudHPzfm",
        "outputId": "a8b11fe2-f47d-40b5-bb20-bbdcb9dc9d27"
      },
      "source": [
        "model = DecisionTreeClassifier()\n",
        "model.fit(X, Y)"
      ],
      "execution_count": 23,
      "outputs": [
        {
          "output_type": "execute_result",
          "data": {
            "text/plain": [
              "DecisionTreeClassifier(ccp_alpha=0.0, class_weight=None, criterion='gini',\n",
              "                       max_depth=None, max_features=None, max_leaf_nodes=None,\n",
              "                       min_impurity_decrease=0.0, min_impurity_split=None,\n",
              "                       min_samples_leaf=1, min_samples_split=2,\n",
              "                       min_weight_fraction_leaf=0.0, presort='deprecated',\n",
              "                       random_state=None, splitter='best')"
            ]
          },
          "metadata": {
            "tags": []
          },
          "execution_count": 23
        }
      ]
    },
    {
      "cell_type": "markdown",
      "metadata": {
        "id": "LcsBXB7dTLLO"
      },
      "source": [
        "to make a prediction, lets look at an already existing value for a certain gender and age and the stroke outcome and try to run a prediction based on the reference:"
      ]
    },
    {
      "cell_type": "code",
      "metadata": {
        "colab": {
          "base_uri": "https://localhost:8080/",
          "height": 419
        },
        "id": "nzBeZT4RQMl-",
        "outputId": "a86d2c92-6d96-4786-e63b-d71dd1ac1613"
      },
      "source": [
        "X.head(5000)"
      ],
      "execution_count": 24,
      "outputs": [
        {
          "output_type": "execute_result",
          "data": {
            "text/html": [
              "<div>\n",
              "<style scoped>\n",
              "    .dataframe tbody tr th:only-of-type {\n",
              "        vertical-align: middle;\n",
              "    }\n",
              "\n",
              "    .dataframe tbody tr th {\n",
              "        vertical-align: top;\n",
              "    }\n",
              "\n",
              "    .dataframe thead th {\n",
              "        text-align: right;\n",
              "    }\n",
              "</style>\n",
              "<table border=\"1\" class=\"dataframe\">\n",
              "  <thead>\n",
              "    <tr style=\"text-align: right;\">\n",
              "      <th></th>\n",
              "      <th>gender</th>\n",
              "      <th>age</th>\n",
              "      <th>hypertension</th>\n",
              "      <th>heart_disease</th>\n",
              "      <th>ever_married</th>\n",
              "      <th>work_type</th>\n",
              "      <th>Residence_type</th>\n",
              "      <th>smoking_status</th>\n",
              "    </tr>\n",
              "  </thead>\n",
              "  <tbody>\n",
              "    <tr>\n",
              "      <th>0</th>\n",
              "      <td>0</td>\n",
              "      <td>67.0</td>\n",
              "      <td>0</td>\n",
              "      <td>1</td>\n",
              "      <td>1</td>\n",
              "      <td>1</td>\n",
              "      <td>0</td>\n",
              "      <td>2</td>\n",
              "    </tr>\n",
              "    <tr>\n",
              "      <th>1</th>\n",
              "      <td>1</td>\n",
              "      <td>61.0</td>\n",
              "      <td>0</td>\n",
              "      <td>0</td>\n",
              "      <td>1</td>\n",
              "      <td>3</td>\n",
              "      <td>1</td>\n",
              "      <td>0</td>\n",
              "    </tr>\n",
              "    <tr>\n",
              "      <th>2</th>\n",
              "      <td>0</td>\n",
              "      <td>80.0</td>\n",
              "      <td>0</td>\n",
              "      <td>1</td>\n",
              "      <td>1</td>\n",
              "      <td>1</td>\n",
              "      <td>1</td>\n",
              "      <td>0</td>\n",
              "    </tr>\n",
              "    <tr>\n",
              "      <th>3</th>\n",
              "      <td>1</td>\n",
              "      <td>49.0</td>\n",
              "      <td>0</td>\n",
              "      <td>0</td>\n",
              "      <td>1</td>\n",
              "      <td>1</td>\n",
              "      <td>0</td>\n",
              "      <td>1</td>\n",
              "    </tr>\n",
              "    <tr>\n",
              "      <th>4</th>\n",
              "      <td>1</td>\n",
              "      <td>79.0</td>\n",
              "      <td>1</td>\n",
              "      <td>0</td>\n",
              "      <td>1</td>\n",
              "      <td>3</td>\n",
              "      <td>1</td>\n",
              "      <td>0</td>\n",
              "    </tr>\n",
              "    <tr>\n",
              "      <th>...</th>\n",
              "      <td>...</td>\n",
              "      <td>...</td>\n",
              "      <td>...</td>\n",
              "      <td>...</td>\n",
              "      <td>...</td>\n",
              "      <td>...</td>\n",
              "      <td>...</td>\n",
              "      <td>...</td>\n",
              "    </tr>\n",
              "    <tr>\n",
              "      <th>4995</th>\n",
              "      <td>1</td>\n",
              "      <td>59.0</td>\n",
              "      <td>0</td>\n",
              "      <td>0</td>\n",
              "      <td>1</td>\n",
              "      <td>1</td>\n",
              "      <td>0</td>\n",
              "      <td>3</td>\n",
              "    </tr>\n",
              "    <tr>\n",
              "      <th>4996</th>\n",
              "      <td>1</td>\n",
              "      <td>40.0</td>\n",
              "      <td>0</td>\n",
              "      <td>0</td>\n",
              "      <td>1</td>\n",
              "      <td>1</td>\n",
              "      <td>0</td>\n",
              "      <td>0</td>\n",
              "    </tr>\n",
              "    <tr>\n",
              "      <th>4997</th>\n",
              "      <td>1</td>\n",
              "      <td>8.0</td>\n",
              "      <td>0</td>\n",
              "      <td>0</td>\n",
              "      <td>0</td>\n",
              "      <td>4</td>\n",
              "      <td>0</td>\n",
              "      <td>3</td>\n",
              "    </tr>\n",
              "    <tr>\n",
              "      <th>4998</th>\n",
              "      <td>1</td>\n",
              "      <td>24.0</td>\n",
              "      <td>0</td>\n",
              "      <td>0</td>\n",
              "      <td>1</td>\n",
              "      <td>1</td>\n",
              "      <td>1</td>\n",
              "      <td>0</td>\n",
              "    </tr>\n",
              "    <tr>\n",
              "      <th>4999</th>\n",
              "      <td>0</td>\n",
              "      <td>18.0</td>\n",
              "      <td>0</td>\n",
              "      <td>0</td>\n",
              "      <td>0</td>\n",
              "      <td>1</td>\n",
              "      <td>1</td>\n",
              "      <td>3</td>\n",
              "    </tr>\n",
              "  </tbody>\n",
              "</table>\n",
              "<p>5000 rows × 8 columns</p>\n",
              "</div>"
            ],
            "text/plain": [
              "      gender   age  hypertension  ...  work_type  Residence_type  smoking_status\n",
              "0          0  67.0             0  ...          1               0               2\n",
              "1          1  61.0             0  ...          3               1               0\n",
              "2          0  80.0             0  ...          1               1               0\n",
              "3          1  49.0             0  ...          1               0               1\n",
              "4          1  79.0             1  ...          3               1               0\n",
              "...      ...   ...           ...  ...        ...             ...             ...\n",
              "4995       1  59.0             0  ...          1               0               3\n",
              "4996       1  40.0             0  ...          1               0               0\n",
              "4997       1   8.0             0  ...          4               0               3\n",
              "4998       1  24.0             0  ...          1               1               0\n",
              "4999       0  18.0             0  ...          1               1               3\n",
              "\n",
              "[5000 rows x 8 columns]"
            ]
          },
          "metadata": {
            "tags": []
          },
          "execution_count": 24
        }
      ]
    },
    {
      "cell_type": "code",
      "metadata": {
        "colab": {
          "base_uri": "https://localhost:8080/"
        },
        "id": "-EbYxOIDaTFX",
        "outputId": "0973885a-d8e7-4ff3-b956-6f8883ebe883"
      },
      "source": [
        "Y.head(5000)"
      ],
      "execution_count": 25,
      "outputs": [
        {
          "output_type": "execute_result",
          "data": {
            "text/plain": [
              "0       Yes\n",
              "1       Yes\n",
              "2       Yes\n",
              "3       Yes\n",
              "4       Yes\n",
              "       ... \n",
              "4995     No\n",
              "4996     No\n",
              "4997     No\n",
              "4998     No\n",
              "4999     No\n",
              "Name: stroke, Length: 5000, dtype: object"
            ]
          },
          "metadata": {
            "tags": []
          },
          "execution_count": 25
        }
      ]
    },
    {
      "cell_type": "code",
      "metadata": {
        "colab": {
          "base_uri": "https://localhost:8080/"
        },
        "id": "HA0RZMjhTpzf",
        "outputId": "69deb009-d1c4-45f4-d743-b33c52ee1bca"
      },
      "source": [
        "#gender:: 0 for male, 1 for female, 2 for unknown\n",
        "\n",
        "#hypertension, heart_disease:: 0 = no, 1 = yes\n",
        "\n",
        "#work_type:: Never_worked = 0, private = 1, Govt_job = 2, self-employed = 3, children = 4\n",
        "\n",
        "#residence_Type:: urban = 0, rural = 1\n",
        "\n",
        "#Smoking_status:: never smoked = 0, smokes = 1, formerly smoked = 2, unknown = 3\n",
        "\n",
        "\n",
        "#gender\tage\thypertension\theart_disease, ever_married, work type, residence type, glucose_level, bmi, smoking status\n",
        "\n",
        "#total number of inputs: 8\n",
        "first = [1, 62, 0, 0, 1, 3, 1, 0] # a random set of values (??)\n",
        "second = [0, 67, 0, 1, 1, 1, 0, 2] # a value that exists in the database (yes stroke)\n",
        "third = [0, 59, 1, 0, 1, 0, 1, 1] # a random set of values (??)\n",
        "fourth = [1, 59, 0, 0, 1, 1, 0, 3] # a value that exists in the database (no stroke)\n",
        "fifth = [0, 80, 1, 0, 1, 0, 1, 1] # a random set of values (??)\n",
        "model.predict([first, second, third, fourth, fifth])"
      ],
      "execution_count": 26,
      "outputs": [
        {
          "output_type": "execute_result",
          "data": {
            "text/plain": [
              "array(['No', 'Yes', 'No', 'No', 'Yes'], dtype=object)"
            ]
          },
          "metadata": {
            "tags": []
          },
          "execution_count": 26
        }
      ]
    },
    {
      "cell_type": "markdown",
      "metadata": {
        "id": "diMxKHD-cc_B"
      },
      "source": [
        "it seems that this prediction model only works when it directly corresponds with the values that are in the database."
      ]
    },
    {
      "cell_type": "markdown",
      "metadata": {
        "id": "WfTZaGIthOuU"
      },
      "source": [
        "Lets try to test out our hipothesis, where we know that:\n",
        "\n",
        "From the data, we can see that people that are more likely to haves strokes are:\n",
        "\n",
        "\n",
        "\n",
        "*   Males\n",
        "*   Self Employed\n",
        "*   People that have high blood pressure\n",
        "*   People that have/had heart diseases\n",
        "*   That live in Urban areas\n",
        "*   Former Smokers\n",
        "*   Married people\n",
        "\n",
        "Lets try out multiple data with different age groups:\n"
      ]
    },
    {
      "cell_type": "code",
      "metadata": {
        "colab": {
          "base_uri": "https://localhost:8080/",
          "height": 142
        },
        "id": "zsLWqz5ohm-g",
        "outputId": "a988155c-b15f-4970-941b-1b2caed3871a"
      },
      "source": [
        "X.head(3)"
      ],
      "execution_count": 27,
      "outputs": [
        {
          "output_type": "execute_result",
          "data": {
            "text/html": [
              "<div>\n",
              "<style scoped>\n",
              "    .dataframe tbody tr th:only-of-type {\n",
              "        vertical-align: middle;\n",
              "    }\n",
              "\n",
              "    .dataframe tbody tr th {\n",
              "        vertical-align: top;\n",
              "    }\n",
              "\n",
              "    .dataframe thead th {\n",
              "        text-align: right;\n",
              "    }\n",
              "</style>\n",
              "<table border=\"1\" class=\"dataframe\">\n",
              "  <thead>\n",
              "    <tr style=\"text-align: right;\">\n",
              "      <th></th>\n",
              "      <th>gender</th>\n",
              "      <th>age</th>\n",
              "      <th>hypertension</th>\n",
              "      <th>heart_disease</th>\n",
              "      <th>ever_married</th>\n",
              "      <th>work_type</th>\n",
              "      <th>Residence_type</th>\n",
              "      <th>smoking_status</th>\n",
              "    </tr>\n",
              "  </thead>\n",
              "  <tbody>\n",
              "    <tr>\n",
              "      <th>0</th>\n",
              "      <td>0</td>\n",
              "      <td>67.0</td>\n",
              "      <td>0</td>\n",
              "      <td>1</td>\n",
              "      <td>1</td>\n",
              "      <td>1</td>\n",
              "      <td>0</td>\n",
              "      <td>2</td>\n",
              "    </tr>\n",
              "    <tr>\n",
              "      <th>1</th>\n",
              "      <td>1</td>\n",
              "      <td>61.0</td>\n",
              "      <td>0</td>\n",
              "      <td>0</td>\n",
              "      <td>1</td>\n",
              "      <td>3</td>\n",
              "      <td>1</td>\n",
              "      <td>0</td>\n",
              "    </tr>\n",
              "    <tr>\n",
              "      <th>2</th>\n",
              "      <td>0</td>\n",
              "      <td>80.0</td>\n",
              "      <td>0</td>\n",
              "      <td>1</td>\n",
              "      <td>1</td>\n",
              "      <td>1</td>\n",
              "      <td>1</td>\n",
              "      <td>0</td>\n",
              "    </tr>\n",
              "  </tbody>\n",
              "</table>\n",
              "</div>"
            ],
            "text/plain": [
              "   gender   age  hypertension  ...  work_type  Residence_type  smoking_status\n",
              "0       0  67.0             0  ...          1               0               2\n",
              "1       1  61.0             0  ...          3               1               0\n",
              "2       0  80.0             0  ...          1               1               0\n",
              "\n",
              "[3 rows x 8 columns]"
            ]
          },
          "metadata": {
            "tags": []
          },
          "execution_count": 27
        }
      ]
    },
    {
      "cell_type": "code",
      "metadata": {
        "colab": {
          "base_uri": "https://localhost:8080/"
        },
        "id": "060lJ9xtheZ6",
        "outputId": "7db41935-977c-499d-d82d-a03a1b05faff"
      },
      "source": [
        "#total number of inputs: 8\n",
        "# all males(0), different age groups, hypertension and heart_disease to 1, ever married 1,\n",
        "# work type: self_employed(3), residence_type urban(0), smoking status either smoking(1) or previously smoked(2)\n",
        "\n",
        "first = [0, 75, 1, 1, 1, 3, 0, 1] \n",
        "second = [0, 62, 1, 1, 1, 3, 0, 2] \n",
        "third = [0, 85, 1, 1, 1, 3, 0, 1] \n",
        "\n",
        "#differnet values:\n",
        "fourth = [0, 68, 1, 0, 1, 3, 1, 1] \n",
        "model.predict([first, second, third, fourth])"
      ],
      "execution_count": 28,
      "outputs": [
        {
          "output_type": "execute_result",
          "data": {
            "text/plain": [
              "array(['No', 'No', 'No', 'Yes'], dtype=object)"
            ]
          },
          "metadata": {
            "tags": []
          },
          "execution_count": 28
        }
      ]
    },
    {
      "cell_type": "markdown",
      "metadata": {
        "id": "GqDMyEZw9bTl"
      },
      "source": [
        "It seems that the model only predicts the correct stroke values if the data that was used already exists in the dataset"
      ]
    },
    {
      "cell_type": "markdown",
      "metadata": {
        "id": "Oz28BhJBdL2X"
      },
      "source": [
        "To test this theory out, we need to do a way to calcuate the accuracy of the model:"
      ]
    },
    {
      "cell_type": "code",
      "metadata": {
        "colab": {
          "base_uri": "https://localhost:8080/"
        },
        "id": "TuXwT0kodawA",
        "outputId": "0a42631e-03da-4fdd-8738-3a6106e4b902"
      },
      "source": [
        "from sklearn.model_selection import train_test_split\n",
        "from sklearn.metrics import accuracy_score\n",
        "\n",
        "X_train, X_test, Y_train, Y_test = train_test_split(X, Y, test_size=0.3)\n",
        "\n",
        "model = DecisionTreeClassifier()\n",
        "model.fit(X_train, Y_train)\n",
        "predictions = model.predict(X_test)\n",
        "\n",
        "score = accuracy_score(Y_test, predictions)\n",
        "score"
      ],
      "execution_count": 29,
      "outputs": [
        {
          "output_type": "execute_result",
          "data": {
            "text/plain": [
              "0.9151989562948467"
            ]
          },
          "metadata": {
            "tags": []
          },
          "execution_count": 29
        }
      ]
    },
    {
      "cell_type": "code",
      "metadata": {
        "id": "H2SjFQ2Heb2b",
        "colab": {
          "base_uri": "https://localhost:8080/"
        },
        "outputId": "c37031a5-e445-40ed-f756-9da6d0e2be0e"
      },
      "source": [
        "Y_test"
      ],
      "execution_count": 30,
      "outputs": [
        {
          "output_type": "execute_result",
          "data": {
            "text/plain": [
              "4070     No\n",
              "4353     No\n",
              "1226     No\n",
              "154     Yes\n",
              "2429     No\n",
              "       ... \n",
              "1052     No\n",
              "4237     No\n",
              "486      No\n",
              "4187     No\n",
              "1103     No\n",
              "Name: stroke, Length: 1533, dtype: object"
            ]
          },
          "metadata": {
            "tags": []
          },
          "execution_count": 30
        }
      ]
    },
    {
      "cell_type": "markdown",
      "metadata": {
        "id": "qOg6YnI09mHw"
      },
      "source": [
        "Although the accuracy of predictions seems to be at a good value, the predicitons are mostly wrong"
      ]
    },
    {
      "cell_type": "markdown",
      "metadata": {
        "id": "-D8UPFeU9rDm"
      },
      "source": [
        "In conclusion for decision tree: Decision tree machine learning algorithm is probably not the best way ofp predicting values. Although the prediction 'score' is quite high, most of the time the devision tree algorithm does not predict the actual stroke values.\n",
        "\n",
        "It might be because of the dataset or the algorithms."
      ]
    },
    {
      "cell_type": "markdown",
      "metadata": {
        "id": "K4uIUHW2LC8K"
      },
      "source": [
        "# PART2: TRYING OUT CONFUSION MATRIXES TO FULLY UNDERSTAND WHERE THINGS WENT WRONG, DATASET OR ALGORITHMS:"
      ]
    },
    {
      "cell_type": "markdown",
      "metadata": {
        "id": "8ZZqF0qw94sZ"
      },
      "source": [
        "**PART 2: Confusion Matrix**\n",
        "Another way of testing the model is to try and do it through working with confusion matrix. Were going to be using confusion matrix to evaluate performance of the model that we used before.\n",
        "\n",
        "The confusion matrix will predict the actual values to the ones that are predicted by the model."
      ]
    },
    {
      "cell_type": "markdown",
      "metadata": {
        "id": "B3e1uza--iEM"
      },
      "source": [
        "first we display the confusion matrix values:"
      ]
    },
    {
      "cell_type": "code",
      "metadata": {
        "colab": {
          "base_uri": "https://localhost:8080/"
        },
        "id": "_8FVTz_GXhSm",
        "outputId": "79c7609d-bd1a-41cd-c585-a3f1243aff28"
      },
      "source": [
        "confusion_matrix(Y_test, predictions)"
      ],
      "execution_count": 31,
      "outputs": [
        {
          "output_type": "execute_result",
          "data": {
            "text/plain": [
              "array([[1400,   55],\n",
              "       [  75,    3]])"
            ]
          },
          "metadata": {
            "tags": []
          },
          "execution_count": 31
        }
      ]
    },
    {
      "cell_type": "markdown",
      "metadata": {
        "id": "lxF9lfgG-omS"
      },
      "source": [
        "This is a 2D version of a confusion matrix, to make it more readable we can transfer it to a better understandable graph:"
      ]
    },
    {
      "cell_type": "code",
      "metadata": {
        "colab": {
          "base_uri": "https://localhost:8080/",
          "height": 421
        },
        "id": "UTVwHKjlXrYU",
        "outputId": "2ce6c39c-840f-4e7a-8b35-7b5d366baf9b"
      },
      "source": [
        "matrix = plot_confusion_matrix(model, X_test, Y_test, cmap=plt.cm.Reds)\n",
        "matrix.ax_.set_title('Confusion Matrix', color='black')\n",
        "plt.xlabel('Predicted Label', color='black')\n",
        "plt.ylabel('True label', color='black')\n",
        "plt.gcf().axes[0].tick_params(colors='black')\n",
        "plt.gcf().axes[1].tick_params(colors='black')\n",
        "plt.gcf().set_size_inches(10,6)\n",
        "plt.show"
      ],
      "execution_count": 32,
      "outputs": [
        {
          "output_type": "execute_result",
          "data": {
            "text/plain": [
              "<function matplotlib.pyplot.show>"
            ]
          },
          "metadata": {
            "tags": []
          },
          "execution_count": 32
        },
        {
          "output_type": "display_data",
          "data": {
            "image/png": "[encoded data removed]",
            "text/plain": [
              "<Figure size 720x432 with 2 Axes>"
            ]
          },
          "metadata": {
            "tags": [],
            "needs_background": "light"
          }
        }
      ]
    },
    {
      "cell_type": "markdown",
      "metadata": {
        "id": "hMr1S3k8-vwZ"
      },
      "source": [
        "This just shows how many values are getting predicted correctly."
      ]
    },
    {
      "cell_type": "markdown",
      "metadata": {
        "id": "ar2uRB9qLFAY"
      },
      "source": [
        "seems that we're not getting good predictions as the all seem to be concentrating to all the values being 'No'."
      ]
    },
    {
      "cell_type": "markdown",
      "metadata": {
        "id": "csNPQAtscSBD"
      },
      "source": [
        "Lets try to use KNeighborsClassifier as a model now (hopefully were going to get some better prediction results):"
      ]
    },
    {
      "cell_type": "code",
      "metadata": {
        "colab": {
          "base_uri": "https://localhost:8080/"
        },
        "id": "VE0OYm_lPtOU",
        "outputId": "ae4bd9b2-7bd0-4f3d-f5e3-36a8193ad901"
      },
      "source": [
        "X_train, X_test, Y_train, Y_test = train_test_split(X, Y, test_size=0.3)\n",
        "\n",
        "knn_clf = KNeighborsClassifier(n_neighbors=9)\n",
        "knn_clf.fit(X_train, Y_train)\n",
        "knn_predictions = knn_clf.predict(X_test)\n",
        "print('Accuracy of the knn algorithm is: {}'.format(accuracy_score(Y_test, knn_predictions)))"
      ],
      "execution_count": 33,
      "outputs": [
        {
          "output_type": "stream",
          "text": [
            "Accuracy of the knn algorithm is: 0.9504240052185258\n"
          ],
          "name": "stdout"
        }
      ]
    },
    {
      "cell_type": "markdown",
      "metadata": {
        "id": "CPNm0zKv_HUK"
      },
      "source": [
        "it seems that the accuracy is the same or similar to the model that we used before."
      ]
    },
    {
      "cell_type": "code",
      "metadata": {
        "id": "N8xRsykSOkN4",
        "colab": {
          "base_uri": "https://localhost:8080/"
        },
        "outputId": "6d6f4d37-569c-41ee-d007-1d1ccf594c92"
      },
      "source": [
        "confusion_matrix(Y_test, knn_predictions)"
      ],
      "execution_count": 34,
      "outputs": [
        {
          "output_type": "execute_result",
          "data": {
            "text/plain": [
              "array([[1457,    0],\n",
              "       [  76,    0]])"
            ]
          },
          "metadata": {
            "tags": []
          },
          "execution_count": 34
        }
      ]
    },
    {
      "cell_type": "markdown",
      "metadata": {
        "id": "3eP7kUvY_L0Z"
      },
      "source": [
        "confusion matrixes with knn_predictions values seems kinda similar, not much is changed, but we have to make it into a graph just to make sure."
      ]
    },
    {
      "cell_type": "code",
      "metadata": {
        "colab": {
          "base_uri": "https://localhost:8080/",
          "height": 421
        },
        "id": "aL_B-yMZUTbq",
        "outputId": "75b8e9d0-df4b-4477-a605-8cfae1d531cb"
      },
      "source": [
        "matrix = plot_confusion_matrix(knn_clf, X_test, Y_test, cmap=plt.cm.Reds)\n",
        "matrix.ax_.set_title('Confusion Matrix', color='black')\n",
        "plt.xlabel('Predicted Label', color='black')\n",
        "plt.ylabel('True label', color='black')\n",
        "plt.gcf().axes[0].tick_params(colors='black')\n",
        "plt.gcf().axes[1].tick_params(colors='black')\n",
        "plt.gcf().set_size_inches(10,6)\n",
        "plt.show"
      ],
      "execution_count": 35,
      "outputs": [
        {
          "output_type": "execute_result",
          "data": {
            "text/plain": [
              "<function matplotlib.pyplot.show>"
            ]
          },
          "metadata": {
            "tags": []
          },
          "execution_count": 35
        },
        {
          "output_type": "display_data",
          "data": {
            "image/png": "[encoded data removed]",
            "text/plain": [
              "<Figure size 720x432 with 2 Axes>"
            ]
          },
          "metadata": {
            "tags": [],
            "needs_background": "light"
          }
        }
      ]
    },
    {
      "cell_type": "markdown",
      "metadata": {
        "id": "MUWu5602LPyP"
      },
      "source": [
        "Not really a big different of trying to see the confusion matrix with KNeighborsClassifier"
      ]
    },
    {
      "cell_type": "markdown",
      "metadata": {
        "id": "8WRBPe3yWOcF"
      },
      "source": [
        "For the confusion matrix, 1469 of (no) stroke values were predicted correct when compared to the actua values, when 61 values were not predicted correctly.\n",
        "\n",
        "Same goes for (yes) stroke prediction, 1 value was predicted correctly, when 2 values were not predicted correctly"
      ]
    },
    {
      "cell_type": "markdown",
      "metadata": {
        "id": "487y_G0s_YtA"
      },
      "source": [
        "In conclusion, both decision tree or KNeighborsClassifier models are not really best or suitable to use for predictions for this particular stroke dataset."
      ]
    },
    {
      "cell_type": "markdown",
      "metadata": {
        "id": "XibijzWeLZD9"
      },
      "source": [
        "Lets ry to get a classification_report and see each value:"
      ]
    },
    {
      "cell_type": "code",
      "metadata": {
        "colab": {
          "base_uri": "https://localhost:8080/"
        },
        "id": "_N8iVvEEU3An",
        "outputId": "f448a823-566b-4978-ccab-af316777591a"
      },
      "source": [
        "X_train, X_test, Y_train, Y_test = train_test_split(X, Y, test_size=0.5)\n",
        "confusion_matrix(Y_test, Y_train)"
      ],
      "execution_count": 36,
      "outputs": [
        {
          "output_type": "execute_result",
          "data": {
            "text/plain": [
              "array([[2311,  124],\n",
              "       [ 115,    5]])"
            ]
          },
          "metadata": {
            "tags": []
          },
          "execution_count": 36
        }
      ]
    },
    {
      "cell_type": "code",
      "metadata": {
        "colab": {
          "base_uri": "https://localhost:8080/"
        },
        "id": "6JkrWiAgWEzZ",
        "outputId": "33153000-9d14-4d1c-b9c1-c1fb5171658c"
      },
      "source": [
        "from sklearn.metrics import classification_report\n",
        "print(classification_report(Y_test, Y_train))"
      ],
      "execution_count": 37,
      "outputs": [
        {
          "output_type": "stream",
          "text": [
            "              precision    recall  f1-score   support\n",
            "\n",
            "          No       0.95      0.95      0.95      2435\n",
            "         Yes       0.04      0.04      0.04       120\n",
            "\n",
            "    accuracy                           0.91      2555\n",
            "   macro avg       0.50      0.50      0.50      2555\n",
            "weighted avg       0.91      0.91      0.91      2555\n",
            "\n"
          ],
          "name": "stdout"
        }
      ]
    },
    {
      "cell_type": "code",
      "metadata": {
        "colab": {
          "base_uri": "https://localhost:8080/"
        },
        "id": "3ykq0IUiZR5m",
        "outputId": "f5286623-b1e3-4501-ebf8-5221b3f8d2c3"
      },
      "source": [
        "Y.replace({\"No\": 0, \"Yes\": 1}, inplace=True)\n",
        "Y"
      ],
      "execution_count": 38,
      "outputs": [
        {
          "output_type": "execute_result",
          "data": {
            "text/plain": [
              "0       1\n",
              "1       1\n",
              "2       1\n",
              "3       1\n",
              "4       1\n",
              "       ..\n",
              "5105    0\n",
              "5106    0\n",
              "5107    0\n",
              "5108    0\n",
              "5109    0\n",
              "Name: stroke, Length: 5110, dtype: int64"
            ]
          },
          "metadata": {
            "tags": []
          },
          "execution_count": 38
        }
      ]
    },
    {
      "cell_type": "markdown",
      "metadata": {
        "id": "-XhI6xZiYPZV"
      },
      "source": [
        "Our 'precision' and 'recall' predictions are not great"
      ]
    },
    {
      "cell_type": "code",
      "metadata": {
        "id": "Xd7kWFq0YfSc"
      },
      "source": [
        "from sklearn.metrics import precision_recall_curve\n",
        "\n",
        "X_train, X_test, Y_train, Y_test = train_test_split(X, Y, test_size=0.5)\n",
        "precision, recall, thresholds = precision_recall_curve(Y_test, Y_train)"
      ],
      "execution_count": 39,
      "outputs": []
    },
    {
      "cell_type": "code",
      "metadata": {
        "colab": {
          "base_uri": "https://localhost:8080/"
        },
        "id": "oWJH1npgY_pQ",
        "outputId": "bf93e244-3a23-4ea9-e88c-7e340d5b5257"
      },
      "source": [
        "precision"
      ],
      "execution_count": 40,
      "outputs": [
        {
          "output_type": "execute_result",
          "data": {
            "text/plain": [
              "array([0.04696673, 0.0620155 , 1.        ])"
            ]
          },
          "metadata": {
            "tags": []
          },
          "execution_count": 40
        }
      ]
    },
    {
      "cell_type": "code",
      "metadata": {
        "colab": {
          "base_uri": "https://localhost:8080/"
        },
        "id": "nHilgWhxZcXH",
        "outputId": "44fbd9f6-6bad-477a-b868-a1f4aa8466dd"
      },
      "source": [
        "recall"
      ],
      "execution_count": 41,
      "outputs": [
        {
          "output_type": "execute_result",
          "data": {
            "text/plain": [
              "array([1.        , 0.06666667, 0.        ])"
            ]
          },
          "metadata": {
            "tags": []
          },
          "execution_count": 41
        }
      ]
    },
    {
      "cell_type": "code",
      "metadata": {
        "colab": {
          "base_uri": "https://localhost:8080/"
        },
        "id": "1_u6Hpq6ZdNy",
        "outputId": "dfd3bfc1-0499-497a-af23-08a6c275d5f4"
      },
      "source": [
        "thresholds"
      ],
      "execution_count": 42,
      "outputs": [
        {
          "output_type": "execute_result",
          "data": {
            "text/plain": [
              "array([0, 1])"
            ]
          },
          "metadata": {
            "tags": []
          },
          "execution_count": 42
        }
      ]
    },
    {
      "cell_type": "markdown",
      "metadata": {
        "id": "-YpWyqBSc2iV"
      },
      "source": [
        "These values arent great, something else is needed to be done"
      ]
    },
    {
      "cell_type": "markdown",
      "metadata": {
        "id": "oYqRt5yGLVjJ"
      },
      "source": [
        "# PART 3, USING MORE COLUMNS AND ADDING MORE VALUES TO THE DATASET (CHANGING THEM) WITH 'SMOTE'"
      ]
    },
    {
      "cell_type": "markdown",
      "metadata": {
        "id": "TuzEvEstcv9W"
      },
      "source": [
        "Lets try to include BMI and glucose levels into the X (dataset) value:"
      ]
    },
    {
      "cell_type": "code",
      "metadata": {
        "id": "tdfu9ORtZeEf"
      },
      "source": [
        "X = df.drop(columns=['id','stroke'])\n",
        "X[\"gender\"].replace({\"Male\": 0, \"Female\": 1, \"Other\":2}, inplace=True)\n",
        "\n",
        "X[\"ever_married\"].replace({\"No\": 0, \"Yes\": 1}, inplace=True)\n",
        "\n",
        "#Work_Type:: Never_worked = 0, private = 1, Govt_job = 2, self-employed = 3, children = 4\n",
        "X[\"work_type\"].replace({\"Never_worked\": 0, \"Private\": 1, \"Govt_job\":2, \"Self-employed\":3, \"children\":4}, inplace=True)\n",
        "\n",
        "#Smoking_status:: never smoked = 0, smokes = 1, formerly smoked = 2, unknown = 3\n",
        "X[\"smoking_status\"].replace({\"never smoked\": 0, \"smokes\": 1, \"formerly smoked\":2, \"Unknown\":3}, inplace=True)\n",
        "\n",
        "X[\"Residence_type\"].replace({\"Urban\": 0, \"Rural\": 1}, inplace=True)\n",
        "y = df['stroke']"
      ],
      "execution_count": 43,
      "outputs": []
    },
    {
      "cell_type": "code",
      "metadata": {
        "id": "fsbiaKjfZ2h_"
      },
      "source": [
        "X_train, X_test, y_train, y_test = train_test_split(X, y, train_size=0.3, random_state=42)"
      ],
      "execution_count": 44,
      "outputs": []
    },
    {
      "cell_type": "code",
      "metadata": {
        "colab": {
          "base_uri": "https://localhost:8080/"
        },
        "id": "veIZlKPthFgD",
        "outputId": "51027bee-9d35-484f-fefb-9a50bab5b3c1"
      },
      "source": [
        "model = DecisionTreeClassifier()\n",
        "model.fit(X_train, y_train)\n",
        "predictions = model.predict(X_test)\n",
        "confusion_matrix(y_test, predictions)"
      ],
      "execution_count": 45,
      "outputs": [
        {
          "output_type": "execute_result",
          "data": {
            "text/plain": [
              "array([[3246,  158],\n",
              "       [ 154,   19]])"
            ]
          },
          "metadata": {
            "tags": []
          },
          "execution_count": 45
        }
      ]
    },
    {
      "cell_type": "markdown",
      "metadata": {
        "id": "Trbxf6j8hrD_"
      },
      "source": [
        "were still getting similar values but it seems that theyre a bit better."
      ]
    },
    {
      "cell_type": "code",
      "metadata": {
        "colab": {
          "base_uri": "https://localhost:8080/",
          "height": 421
        },
        "id": "RVQXXKCh_sFs",
        "outputId": "e13bf5fe-d6af-4480-ba97-0863ea1f567f"
      },
      "source": [
        "matrix = plot_confusion_matrix(model, X_test, y_test, cmap=plt.cm.Reds)\n",
        "matrix.ax_.set_title('Confusion Matrix', color='black')\n",
        "plt.xlabel('Predicted Label', color='black')\n",
        "plt.ylabel('True label', color='black')\n",
        "plt.gcf().axes[0].tick_params(colors='black')\n",
        "plt.gcf().axes[1].tick_params(colors='black')\n",
        "plt.gcf().set_size_inches(10,6)\n",
        "plt.show"
      ],
      "execution_count": 46,
      "outputs": [
        {
          "output_type": "execute_result",
          "data": {
            "text/plain": [
              "<function matplotlib.pyplot.show>"
            ]
          },
          "metadata": {
            "tags": []
          },
          "execution_count": 46
        },
        {
          "output_type": "display_data",
          "data": {
            "image/png": "[encoded data removed]",
            "text/plain": [
              "<Figure size 720x432 with 2 Axes>"
            ]
          },
          "metadata": {
            "tags": [],
            "needs_background": "light"
          }
        }
      ]
    },
    {
      "cell_type": "markdown",
      "metadata": {
        "id": "FQzwfJUVAWa9"
      },
      "source": [
        "Now lets try to use 'Random Forest Model' and see if we get any different results"
      ]
    },
    {
      "cell_type": "code",
      "metadata": {
        "id": "znSDsKhBAfBk"
      },
      "source": [
        "from sklearn.ensemble import RandomForestClassifier\n",
        "model_rf = RandomForestClassifier()\n",
        "model_rf.fit(X_train, y_train)\n",
        "modelRfPredictions = model_rf.predict(X_test)"
      ],
      "execution_count": 47,
      "outputs": []
    },
    {
      "cell_type": "markdown",
      "metadata": {
        "id": "CnQ_qrQPAv53"
      },
      "source": [
        "lets check the prediction score and confusion matrix if anything majorly has changed:"
      ]
    },
    {
      "cell_type": "code",
      "metadata": {
        "colab": {
          "base_uri": "https://localhost:8080/"
        },
        "id": "1CtHx48BA0Vu",
        "outputId": "c68f9cf2-dbf6-43ae-9fa5-9ce8acd7260a"
      },
      "source": [
        "score_rf = accuracy_score(y_test, modelRfPredictions)\n",
        "score_rf"
      ],
      "execution_count": 48,
      "outputs": [
        {
          "output_type": "execute_result",
          "data": {
            "text/plain": [
              "0.9505171931786414"
            ]
          },
          "metadata": {
            "tags": []
          },
          "execution_count": 48
        }
      ]
    },
    {
      "cell_type": "markdown",
      "metadata": {
        "id": "FR7S23TzA4uJ"
      },
      "source": [
        "it really seems that the score is similar."
      ]
    },
    {
      "cell_type": "code",
      "metadata": {
        "colab": {
          "base_uri": "https://localhost:8080/"
        },
        "id": "31WZEHYMht_c",
        "outputId": "e5266b80-f2b1-419a-e03c-7ed92febcf8c"
      },
      "source": [
        "y_test.head(5000)"
      ],
      "execution_count": 49,
      "outputs": [
        {
          "output_type": "execute_result",
          "data": {
            "text/plain": [
              "4688    0\n",
              "4478    0\n",
              "3849    0\n",
              "4355    0\n",
              "3826    0\n",
              "       ..\n",
              "284     0\n",
              "686     0\n",
              "703     0\n",
              "3341    0\n",
              "2353    0\n",
              "Name: stroke, Length: 3577, dtype: int64"
            ]
          },
          "metadata": {
            "tags": []
          },
          "execution_count": 49
        }
      ]
    },
    {
      "cell_type": "markdown",
      "metadata": {
        "id": "qZFDx-meGYv0"
      },
      "source": [
        "**CONCLUSION:**"
      ]
    },
    {
      "cell_type": "markdown",
      "metadata": {
        "id": "04eSmGmJLivE"
      },
      "source": [
        "It seems that these different type of models have the same or similar accuracy score. This could mean that the data is either biased or there is something wrong with it and it cannot be used for prediction any sort of outcome accurately."
      ]
    },
    {
      "cell_type": "markdown",
      "metadata": {
        "id": "qd_GhPHcCOgb"
      },
      "source": [
        "We can try to use 'SMOTE' to try and make the data from the dataset less biased.\n",
        "(It helps to increase the stroke values to = 1"
      ]
    },
    {
      "cell_type": "code",
      "metadata": {
        "colab": {
          "base_uri": "https://localhost:8080/"
        },
        "id": "s2NSagXFCUt3",
        "outputId": "5d7ab9aa-1876-4bda-8d92-77417a7c73bd"
      },
      "source": [
        "from imblearn.over_sampling import SMOTE\n",
        "smote = SMOTE(random_state=42)"
      ],
      "execution_count": 50,
      "outputs": [
        {
          "output_type": "stream",
          "text": [
            "/usr/local/lib/python3.7/dist-packages/sklearn/externals/six.py:31: FutureWarning: The module is deprecated in version 0.21 and will be removed in version 0.23 since we've dropped support for Python 2.7. Please rely on the official version of six (https://pypi.org/project/six/).\n",
            "  \"(https://pypi.org/project/six/).\", FutureWarning)\n",
            "/usr/local/lib/python3.7/dist-packages/sklearn/utils/deprecation.py:144: FutureWarning: The sklearn.neighbors.base module is  deprecated in version 0.22 and will be removed in version 0.24. The corresponding classes / functions should instead be imported from sklearn.neighbors. Anything that cannot be imported from sklearn.neighbors is now part of the private API.\n",
            "  warnings.warn(message, FutureWarning)\n"
          ],
          "name": "stderr"
        }
      ]
    },
    {
      "cell_type": "code",
      "metadata": {
        "colab": {
          "base_uri": "https://localhost:8080/"
        },
        "id": "rjIqE6J7CV3b",
        "outputId": "3746f076-d365-4bfc-e0bc-65b340c204af"
      },
      "source": [
        "X_res, y_res = smote.fit_resample(X, y)"
      ],
      "execution_count": 51,
      "outputs": [
        {
          "output_type": "stream",
          "text": [
            "/usr/local/lib/python3.7/dist-packages/sklearn/utils/deprecation.py:87: FutureWarning: Function safe_indexing is deprecated; safe_indexing is deprecated in version 0.22 and will be removed in version 0.24.\n",
            "  warnings.warn(msg, category=FutureWarning)\n"
          ],
          "name": "stderr"
        }
      ]
    },
    {
      "cell_type": "markdown",
      "metadata": {
        "id": "QfkWkTVaC_GX"
      },
      "source": [
        "Once we added more data with 'SMOTE' we can compare the values that we had to the new ones that we have now:"
      ]
    },
    {
      "cell_type": "code",
      "metadata": {
        "colab": {
          "base_uri": "https://localhost:8080/"
        },
        "id": "KX5Xz1Z3CwTI",
        "outputId": "b9374f40-3cb0-4b00-f714-aadaca57e5e0"
      },
      "source": [
        "from collections import Counter\n",
        "X_res, y_res = smote.fit_resample(X, y)\n",
        "print('Original dataset has %s' % Counter(y))\n",
        "print('Resampled dataset has %s' % Counter(y_res))\n",
        "print(\"\\n\")"
      ],
      "execution_count": 52,
      "outputs": [
        {
          "output_type": "stream",
          "text": [
            "Original dataset has Counter({0: 4861, 1: 249})\n",
            "Resampled dataset has Counter({1: 4861, 0: 4861})\n",
            "\n",
            "\n"
          ],
          "name": "stdout"
        },
        {
          "output_type": "stream",
          "text": [
            "/usr/local/lib/python3.7/dist-packages/sklearn/utils/deprecation.py:87: FutureWarning: Function safe_indexing is deprecated; safe_indexing is deprecated in version 0.22 and will be removed in version 0.24.\n",
            "  warnings.warn(msg, category=FutureWarning)\n"
          ],
          "name": "stderr"
        }
      ]
    },
    {
      "cell_type": "markdown",
      "metadata": {
        "id": "afnydGwfD3jP"
      },
      "source": [
        "seems like the data is a bit better, and its looks like its more 50/50 of data for a stroke that happened and stroke that didnt (0 and 1)"
      ]
    },
    {
      "cell_type": "markdown",
      "metadata": {
        "id": "niMl8GGXEKjc"
      },
      "source": [
        "Now were going to be training our data to a model again, but this time with a more balanced data:"
      ]
    },
    {
      "cell_type": "code",
      "metadata": {
        "id": "141Ls08RDhlc"
      },
      "source": [
        "X_train, X_test, y_train, y_test = train_test_split(X_res, y_res, test_size=0.3, random_state=42)"
      ],
      "execution_count": 53,
      "outputs": []
    },
    {
      "cell_type": "code",
      "metadata": {
        "colab": {
          "base_uri": "https://localhost:8080/"
        },
        "id": "0OSy9id_EJ1G",
        "outputId": "8d65b7e5-5fb1-4c82-ae3d-6a130d926904"
      },
      "source": [
        "model_balanced = DecisionTreeClassifier()\n",
        "model_balanced.fit(X_train, y_train)"
      ],
      "execution_count": 54,
      "outputs": [
        {
          "output_type": "execute_result",
          "data": {
            "text/plain": [
              "DecisionTreeClassifier(ccp_alpha=0.0, class_weight=None, criterion='gini',\n",
              "                       max_depth=None, max_features=None, max_leaf_nodes=None,\n",
              "                       min_impurity_decrease=0.0, min_impurity_split=None,\n",
              "                       min_samples_leaf=1, min_samples_split=2,\n",
              "                       min_weight_fraction_leaf=0.0, presort='deprecated',\n",
              "                       random_state=None, splitter='best')"
            ]
          },
          "metadata": {
            "tags": []
          },
          "execution_count": 54
        }
      ]
    },
    {
      "cell_type": "code",
      "metadata": {
        "id": "kI7gjef4EP-9"
      },
      "source": [
        "predictions_balanced = model_balanced.predict(X_test)"
      ],
      "execution_count": 55,
      "outputs": []
    },
    {
      "cell_type": "code",
      "metadata": {
        "colab": {
          "base_uri": "https://localhost:8080/"
        },
        "id": "Jkx8QAGXFDKR",
        "outputId": "20e041f1-b243-4ea8-e812-cef34f68df7c"
      },
      "source": [
        "predictions_balanced"
      ],
      "execution_count": 56,
      "outputs": [
        {
          "output_type": "execute_result",
          "data": {
            "text/plain": [
              "array([0, 1, 0, ..., 0, 0, 1])"
            ]
          },
          "metadata": {
            "tags": []
          },
          "execution_count": 56
        }
      ]
    },
    {
      "cell_type": "markdown",
      "metadata": {
        "id": "Y_pYH8QYFGUw"
      },
      "source": [
        "The predictions seems a bit better than before."
      ]
    },
    {
      "cell_type": "code",
      "metadata": {
        "colab": {
          "base_uri": "https://localhost:8080/"
        },
        "id": "gWWLfA8kEgEb",
        "outputId": "c4eafe5e-e4c4-400d-9abc-d755169078f1"
      },
      "source": [
        "score_balanced = accuracy_score(y_test, predictions_balanced)\n",
        "score"
      ],
      "execution_count": 57,
      "outputs": [
        {
          "output_type": "execute_result",
          "data": {
            "text/plain": [
              "0.9151989562948467"
            ]
          },
          "metadata": {
            "tags": []
          },
          "execution_count": 57
        }
      ]
    },
    {
      "cell_type": "markdown",
      "metadata": {
        "id": "yURNuUIwE5FC"
      },
      "source": [
        "The score seems to be similar to before."
      ]
    },
    {
      "cell_type": "markdown",
      "metadata": {
        "id": "nAlCCsanFQE_"
      },
      "source": [
        "Lets try to do the same predictions as before and see what is happening and if anything has changed."
      ]
    },
    {
      "cell_type": "code",
      "metadata": {
        "colab": {
          "base_uri": "https://localhost:8080/",
          "height": 419
        },
        "id": "4Dz9h9YBFaqo",
        "outputId": "f39c3a9d-0487-4811-edc5-95a678fb8581"
      },
      "source": [
        "X.head(500)"
      ],
      "execution_count": 58,
      "outputs": [
        {
          "output_type": "execute_result",
          "data": {
            "text/html": [
              "<div>\n",
              "<style scoped>\n",
              "    .dataframe tbody tr th:only-of-type {\n",
              "        vertical-align: middle;\n",
              "    }\n",
              "\n",
              "    .dataframe tbody tr th {\n",
              "        vertical-align: top;\n",
              "    }\n",
              "\n",
              "    .dataframe thead th {\n",
              "        text-align: right;\n",
              "    }\n",
              "</style>\n",
              "<table border=\"1\" class=\"dataframe\">\n",
              "  <thead>\n",
              "    <tr style=\"text-align: right;\">\n",
              "      <th></th>\n",
              "      <th>gender</th>\n",
              "      <th>age</th>\n",
              "      <th>hypertension</th>\n",
              "      <th>heart_disease</th>\n",
              "      <th>ever_married</th>\n",
              "      <th>work_type</th>\n",
              "      <th>Residence_type</th>\n",
              "      <th>avg_glucose_level</th>\n",
              "      <th>bmi</th>\n",
              "      <th>smoking_status</th>\n",
              "    </tr>\n",
              "  </thead>\n",
              "  <tbody>\n",
              "    <tr>\n",
              "      <th>0</th>\n",
              "      <td>0</td>\n",
              "      <td>67.0</td>\n",
              "      <td>0</td>\n",
              "      <td>1</td>\n",
              "      <td>1</td>\n",
              "      <td>1</td>\n",
              "      <td>0</td>\n",
              "      <td>228.69</td>\n",
              "      <td>36.600000</td>\n",
              "      <td>2</td>\n",
              "    </tr>\n",
              "    <tr>\n",
              "      <th>1</th>\n",
              "      <td>1</td>\n",
              "      <td>61.0</td>\n",
              "      <td>0</td>\n",
              "      <td>0</td>\n",
              "      <td>1</td>\n",
              "      <td>3</td>\n",
              "      <td>1</td>\n",
              "      <td>202.21</td>\n",
              "      <td>29.879487</td>\n",
              "      <td>0</td>\n",
              "    </tr>\n",
              "    <tr>\n",
              "      <th>2</th>\n",
              "      <td>0</td>\n",
              "      <td>80.0</td>\n",
              "      <td>0</td>\n",
              "      <td>1</td>\n",
              "      <td>1</td>\n",
              "      <td>1</td>\n",
              "      <td>1</td>\n",
              "      <td>105.92</td>\n",
              "      <td>32.500000</td>\n",
              "      <td>0</td>\n",
              "    </tr>\n",
              "    <tr>\n",
              "      <th>3</th>\n",
              "      <td>1</td>\n",
              "      <td>49.0</td>\n",
              "      <td>0</td>\n",
              "      <td>0</td>\n",
              "      <td>1</td>\n",
              "      <td>1</td>\n",
              "      <td>0</td>\n",
              "      <td>171.23</td>\n",
              "      <td>34.400000</td>\n",
              "      <td>1</td>\n",
              "    </tr>\n",
              "    <tr>\n",
              "      <th>4</th>\n",
              "      <td>1</td>\n",
              "      <td>79.0</td>\n",
              "      <td>1</td>\n",
              "      <td>0</td>\n",
              "      <td>1</td>\n",
              "      <td>3</td>\n",
              "      <td>1</td>\n",
              "      <td>174.12</td>\n",
              "      <td>24.000000</td>\n",
              "      <td>0</td>\n",
              "    </tr>\n",
              "    <tr>\n",
              "      <th>...</th>\n",
              "      <td>...</td>\n",
              "      <td>...</td>\n",
              "      <td>...</td>\n",
              "      <td>...</td>\n",
              "      <td>...</td>\n",
              "      <td>...</td>\n",
              "      <td>...</td>\n",
              "      <td>...</td>\n",
              "      <td>...</td>\n",
              "      <td>...</td>\n",
              "    </tr>\n",
              "    <tr>\n",
              "      <th>495</th>\n",
              "      <td>1</td>\n",
              "      <td>71.0</td>\n",
              "      <td>0</td>\n",
              "      <td>0</td>\n",
              "      <td>1</td>\n",
              "      <td>1</td>\n",
              "      <td>0</td>\n",
              "      <td>93.28</td>\n",
              "      <td>34.700000</td>\n",
              "      <td>0</td>\n",
              "    </tr>\n",
              "    <tr>\n",
              "      <th>496</th>\n",
              "      <td>0</td>\n",
              "      <td>5.0</td>\n",
              "      <td>0</td>\n",
              "      <td>0</td>\n",
              "      <td>0</td>\n",
              "      <td>4</td>\n",
              "      <td>1</td>\n",
              "      <td>122.19</td>\n",
              "      <td>35.000000</td>\n",
              "      <td>3</td>\n",
              "    </tr>\n",
              "    <tr>\n",
              "      <th>497</th>\n",
              "      <td>1</td>\n",
              "      <td>14.0</td>\n",
              "      <td>0</td>\n",
              "      <td>0</td>\n",
              "      <td>0</td>\n",
              "      <td>4</td>\n",
              "      <td>1</td>\n",
              "      <td>129.53</td>\n",
              "      <td>21.300000</td>\n",
              "      <td>0</td>\n",
              "    </tr>\n",
              "    <tr>\n",
              "      <th>498</th>\n",
              "      <td>1</td>\n",
              "      <td>15.0</td>\n",
              "      <td>0</td>\n",
              "      <td>0</td>\n",
              "      <td>0</td>\n",
              "      <td>4</td>\n",
              "      <td>1</td>\n",
              "      <td>114.53</td>\n",
              "      <td>29.100000</td>\n",
              "      <td>3</td>\n",
              "    </tr>\n",
              "    <tr>\n",
              "      <th>499</th>\n",
              "      <td>1</td>\n",
              "      <td>66.0</td>\n",
              "      <td>0</td>\n",
              "      <td>0</td>\n",
              "      <td>0</td>\n",
              "      <td>1</td>\n",
              "      <td>0</td>\n",
              "      <td>93.73</td>\n",
              "      <td>23.900000</td>\n",
              "      <td>1</td>\n",
              "    </tr>\n",
              "  </tbody>\n",
              "</table>\n",
              "<p>500 rows × 10 columns</p>\n",
              "</div>"
            ],
            "text/plain": [
              "     gender   age  hypertension  ...  avg_glucose_level        bmi  smoking_status\n",
              "0         0  67.0             0  ...             228.69  36.600000               2\n",
              "1         1  61.0             0  ...             202.21  29.879487               0\n",
              "2         0  80.0             0  ...             105.92  32.500000               0\n",
              "3         1  49.0             0  ...             171.23  34.400000               1\n",
              "4         1  79.0             1  ...             174.12  24.000000               0\n",
              "..      ...   ...           ...  ...                ...        ...             ...\n",
              "495       1  71.0             0  ...              93.28  34.700000               0\n",
              "496       0   5.0             0  ...             122.19  35.000000               3\n",
              "497       1  14.0             0  ...             129.53  21.300000               0\n",
              "498       1  15.0             0  ...             114.53  29.100000               3\n",
              "499       1  66.0             0  ...              93.73  23.900000               1\n",
              "\n",
              "[500 rows x 10 columns]"
            ]
          },
          "metadata": {
            "tags": []
          },
          "execution_count": 58
        }
      ]
    },
    {
      "cell_type": "code",
      "metadata": {
        "colab": {
          "base_uri": "https://localhost:8080/"
        },
        "id": "XB1KdZ1sGyzR",
        "outputId": "2fab9960-89c3-47fc-95b3-ffc9e27ec93c"
      },
      "source": [
        "y.head(500)"
      ],
      "execution_count": 59,
      "outputs": [
        {
          "output_type": "execute_result",
          "data": {
            "text/plain": [
              "0      1\n",
              "1      1\n",
              "2      1\n",
              "3      1\n",
              "4      1\n",
              "      ..\n",
              "495    0\n",
              "496    0\n",
              "497    0\n",
              "498    0\n",
              "499    0\n",
              "Name: stroke, Length: 500, dtype: int64"
            ]
          },
          "metadata": {
            "tags": []
          },
          "execution_count": 59
        }
      ]
    },
    {
      "cell_type": "code",
      "metadata": {
        "colab": {
          "base_uri": "https://localhost:8080/"
        },
        "id": "18uJLGr3FWRp",
        "outputId": "cb2a80ed-1f54-4cf6-bc56-edf19a78710a"
      },
      "source": [
        "first = [0, 67, 0, 1, 1, 3, 0, 228, 36, 2] \n",
        "second = [0, 62, 1, 1, 1, 3, 0, 250, 45, 2] \n",
        "third = [0, 67, 0, 1, 1, 3, 0, 228, 36, 2] \n",
        "\n",
        "#differnet values:\n",
        "fourth = [0, 68, 1, 0, 1, 3, 1, 200, 75, 1] \n",
        "model_balanced.predict([first, second, third, fourth])"
      ],
      "execution_count": 60,
      "outputs": [
        {
          "output_type": "execute_result",
          "data": {
            "text/plain": [
              "array([1, 0, 1, 0])"
            ]
          },
          "metadata": {
            "tags": []
          },
          "execution_count": 60
        }
      ]
    },
    {
      "cell_type": "markdown",
      "metadata": {
        "id": "Rx3FQK43HVuH"
      },
      "source": [
        "seems that the values are a bit better."
      ]
    },
    {
      "cell_type": "markdown",
      "metadata": {
        "id": "tV1buROsE9-b"
      },
      "source": [
        "Now we need to test out the confusion matrix bit:"
      ]
    },
    {
      "cell_type": "code",
      "metadata": {
        "colab": {
          "base_uri": "https://localhost:8080/"
        },
        "id": "ZCOmKjpmE2AK",
        "outputId": "1daf337f-21b9-428c-976a-74207787ef48"
      },
      "source": [
        "confusion_matrix(y_test, predictions_balanced)"
      ],
      "execution_count": 61,
      "outputs": [
        {
          "output_type": "execute_result",
          "data": {
            "text/plain": [
              "array([[1359,   98],\n",
              "       [  82, 1378]])"
            ]
          },
          "metadata": {
            "tags": []
          },
          "execution_count": 61
        }
      ]
    },
    {
      "cell_type": "markdown",
      "metadata": {
        "id": "mf8N7_APHt8p"
      },
      "source": [
        "As we can see now the predictions/actual values are more balanced in the confusion matrix:"
      ]
    },
    {
      "cell_type": "markdown",
      "metadata": {
        "id": "SOMc5lJBH0Oy"
      },
      "source": [
        "Now we can plot it just to make sure"
      ]
    },
    {
      "cell_type": "code",
      "metadata": {
        "colab": {
          "base_uri": "https://localhost:8080/",
          "height": 421
        },
        "id": "IIbRsaIGHtU4",
        "outputId": "f1fff352-a0c2-4af7-cada-7bd716a9f94e"
      },
      "source": [
        "matrix = plot_confusion_matrix(model_balanced, X_test, y_test, cmap=plt.cm.Reds)\n",
        "matrix.ax_.set_title('Confusion Matrix', color='black')\n",
        "plt.xlabel('Predicted Label', color='black')\n",
        "plt.ylabel('True label', color='black')\n",
        "plt.gcf().axes[0].tick_params(colors='black')\n",
        "plt.gcf().axes[1].tick_params(colors='black')\n",
        "plt.gcf().set_size_inches(10,6)\n",
        "plt.show"
      ],
      "execution_count": 62,
      "outputs": [
        {
          "output_type": "execute_result",
          "data": {
            "text/plain": [
              "<function matplotlib.pyplot.show>"
            ]
          },
          "metadata": {
            "tags": []
          },
          "execution_count": 62
        },
        {
          "output_type": "display_data",
          "data": {
            "image/png": "[encoded data removed]",
            "text/plain": [
              "<Figure size 720x432 with 2 Axes>"
            ]
          },
          "metadata": {
            "tags": [],
            "needs_background": "light"
          }
        }
      ]
    },
    {
      "cell_type": "markdown",
      "metadata": {
        "id": "Y1-EVM98H-w-"
      },
      "source": [
        "From this graph we can see that our data is way better when it was 'cleaned' with 'SMOTE'"
      ]
    },
    {
      "cell_type": "markdown",
      "metadata": {
        "id": "N9I1y0D8IPMW"
      },
      "source": [
        "Lets try and see with RandomForest algorithm and with KMean algorithm:"
      ]
    },
    {
      "cell_type": "code",
      "metadata": {
        "colab": {
          "base_uri": "https://localhost:8080/"
        },
        "id": "2wjhAQbRH904",
        "outputId": "af6009e0-88f4-4e2b-988c-35c3fe29f3d4"
      },
      "source": [
        "\n",
        "knn_clf_balanced = KNeighborsClassifier(n_neighbors=9)\n",
        "knn_clf_balanced.fit(X_train, y_train)\n",
        "knn_predictions_balanced = knn_clf_balanced.predict(X_test)\n",
        "print('Accuracy of the knn algorithm is: {}'.format(accuracy_score(y_test, knn_predictions_balanced)))"
      ],
      "execution_count": 63,
      "outputs": [
        {
          "output_type": "stream",
          "text": [
            "Accuracy of the knn algorithm is: 0.8765855330819335\n"
          ],
          "name": "stdout"
        }
      ]
    },
    {
      "cell_type": "markdown",
      "metadata": {
        "id": "4hDRyko3Ix7Q"
      },
      "source": [
        "as we can see the accuracy score while using KNeighborsClassifer is a bit lower."
      ]
    },
    {
      "cell_type": "code",
      "metadata": {
        "colab": {
          "base_uri": "https://localhost:8080/"
        },
        "id": "-l03nfGmIoxg",
        "outputId": "09b6abc5-b455-4648-b6ae-8e074749f186"
      },
      "source": [
        "confusion_matrix(y_test, knn_predictions_balanced)"
      ],
      "execution_count": 64,
      "outputs": [
        {
          "output_type": "execute_result",
          "data": {
            "text/plain": [
              "array([[1121,  336],\n",
              "       [  24, 1436]])"
            ]
          },
          "metadata": {
            "tags": []
          },
          "execution_count": 64
        }
      ]
    },
    {
      "cell_type": "code",
      "metadata": {
        "colab": {
          "base_uri": "https://localhost:8080/",
          "height": 421
        },
        "id": "RPnK_0FtI3Hn",
        "outputId": "a3645bb1-2485-4a89-9de6-6c92fb2ac387"
      },
      "source": [
        "matrix = plot_confusion_matrix(knn_clf_balanced, X_test, y_test, cmap=plt.cm.Reds)\n",
        "matrix.ax_.set_title('Confusion Matrix', color='black')\n",
        "plt.xlabel('Predicted Label', color='black')\n",
        "plt.ylabel('True label', color='black')\n",
        "plt.gcf().axes[0].tick_params(colors='black')\n",
        "plt.gcf().axes[1].tick_params(colors='black')\n",
        "plt.gcf().set_size_inches(10,6)\n",
        "plt.show"
      ],
      "execution_count": 65,
      "outputs": [
        {
          "output_type": "execute_result",
          "data": {
            "text/plain": [
              "<function matplotlib.pyplot.show>"
            ]
          },
          "metadata": {
            "tags": []
          },
          "execution_count": 65
        },
        {
          "output_type": "display_data",
          "data": {
            "image/png": "[encoded data removed]",
            "text/plain": [
              "<Figure size 720x432 with 2 Axes>"
            ]
          },
          "metadata": {
            "tags": [],
            "needs_background": "light"
          }
        }
      ]
    },
    {
      "cell_type": "markdown",
      "metadata": {
        "id": "iZm3npalI_S5"
      },
      "source": [
        "as we can see that the KNeighbours algorithm is not as good in predicting correct values as a decision tree algorithm."
      ]
    },
    {
      "cell_type": "markdown",
      "metadata": {
        "id": "N9gNMmwpJIWe"
      },
      "source": [
        "Lets try the last algorithm, the random forest algorithm."
      ]
    },
    {
      "cell_type": "code",
      "metadata": {
        "id": "wdTQOXXvI4WP"
      },
      "source": [
        "model_rf_balanced = RandomForestClassifier()\n",
        "model_rf_balanced.fit(X_train, y_train)\n",
        "modelRfPredictions = model_rf_balanced.predict(X_test)"
      ],
      "execution_count": 66,
      "outputs": []
    },
    {
      "cell_type": "code",
      "metadata": {
        "colab": {
          "base_uri": "https://localhost:8080/"
        },
        "id": "llNIPWcNJSE1",
        "outputId": "2632fb1c-3be2-4259-9c1d-8bbdd8805278"
      },
      "source": [
        "score_balanced_forest = accuracy_score(y_test, modelRfPredictions)\n",
        "score"
      ],
      "execution_count": 67,
      "outputs": [
        {
          "output_type": "execute_result",
          "data": {
            "text/plain": [
              "0.9151989562948467"
            ]
          },
          "metadata": {
            "tags": []
          },
          "execution_count": 67
        }
      ]
    },
    {
      "cell_type": "markdown",
      "metadata": {
        "id": "pbAcDGwYJZXk"
      },
      "source": [
        "The accuracy score is similar."
      ]
    },
    {
      "cell_type": "code",
      "metadata": {
        "colab": {
          "base_uri": "https://localhost:8080/"
        },
        "id": "uv_cSr2rJYPJ",
        "outputId": "8ceb29ab-e881-4ad5-dc9b-90fa0651f219"
      },
      "source": [
        "confusion_matrix(y_test, modelRfPredictions)"
      ],
      "execution_count": 68,
      "outputs": [
        {
          "output_type": "execute_result",
          "data": {
            "text/plain": [
              "array([[1443,   14],\n",
              "       [  77, 1383]])"
            ]
          },
          "metadata": {
            "tags": []
          },
          "execution_count": 68
        }
      ]
    },
    {
      "cell_type": "code",
      "metadata": {
        "colab": {
          "base_uri": "https://localhost:8080/",
          "height": 421
        },
        "id": "tI6XUkyxJctr",
        "outputId": "036885c1-5ad2-46c4-c1a7-348d1c57c241"
      },
      "source": [
        "matrix = plot_confusion_matrix(model_rf_balanced, X_test, y_test, cmap=plt.cm.Reds)\n",
        "matrix.ax_.set_title('Confusion Matrix', color='black')\n",
        "plt.xlabel('Predicted Label', color='black')\n",
        "plt.ylabel('True label', color='black')\n",
        "plt.gcf().axes[0].tick_params(colors='black')\n",
        "plt.gcf().axes[1].tick_params(colors='black')\n",
        "plt.gcf().set_size_inches(10,6)\n",
        "plt.show"
      ],
      "execution_count": 69,
      "outputs": [
        {
          "output_type": "execute_result",
          "data": {
            "text/plain": [
              "<function matplotlib.pyplot.show>"
            ]
          },
          "metadata": {
            "tags": []
          },
          "execution_count": 69
        },
        {
          "output_type": "display_data",
          "data": {
            "image/png": "[encoded data removed]",
            "text/plain": [
              "<Figure size 720x432 with 2 Axes>"
            ]
          },
          "metadata": {
            "tags": [],
            "needs_background": "light"
          }
        }
      ]
    },
    {
      "cell_type": "markdown",
      "metadata": {
        "id": "xGQX20VxJkah"
      },
      "source": [
        "As we can see that this random forest algorithm is very similar in accuracy to the decision tree algorithm. (The forest algorithm is slighty better in getter the right prediction/actual values)."
      ]
    },
    {
      "cell_type": "markdown",
      "metadata": {
        "id": "y4HCXxSoLgiC"
      },
      "source": [
        "# FINAL CONCLUSION AND FINDINGS:\n",
        "#### As it seems from the first few tries, the dataset wasnt properly working with the different used algorithms.\n",
        "\n",
        "#### After some testing was done, a conclusion was made that something is wrong with the dataset (it was biased or unbalanced)\n",
        "\n",
        "#### The dataset was refractured by using 'SMOTE' to balance out the data. Once the data was balanced out (more stroke values were set to 1 because there was alot of 0 stroke values) the algorithms seemed to be starting to work in a better way.\n",
        "\n",
        "#### The algorithms started to predict the correct values for the dataset. Three different algorithms were tested out by getting the prediction accuracy score and by using confusion matrixes: Decision tree, Random Forest and KNeighbourMeans.\n",
        "\n",
        "#### Out of all of them, the Random Forest algorithm was the worst at predicting the correct values, when the other two were quite similar to each other.\n",
        "\n",
        "#### Findings were that if a particular machine learning algorithm does not work on a dataset, it might be that the dataset needs to be refactured.\n",
        "\n",
        "#### For the best prediction results, different models/machine learning algorithms need to be used."
      ]
    },
    {
      "cell_type": "code",
      "metadata": {
        "id": "7ecQ1OOUL_Sk"
      },
      "source": [
        ""
      ],
      "execution_count": 69,
      "outputs": []
    }
  ]
}